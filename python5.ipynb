{
 "cells": [
  {
   "cell_type": "code",
   "execution_count": 2,
   "metadata": {},
   "outputs": [
    {
     "name": "stdout",
     "output_type": "stream",
     "text": [
      "First name is:  Andrew\n",
      "Last name is:  Boiko\n"
     ]
    }
   ],
   "source": [
    "pip = 'Andrew Boiko'\n",
    "delimiter = ' '\n",
    "\n",
    "if not delimiter in pip:\n",
    "    print('error')\n",
    "else:\n",
    "    position = pip.find(delimiter);\n",
    "    \n",
    "    first_name = pip[0:position]\n",
    "    last_name = pip[position + 1:]\n",
    "    \n",
    "    print('First name is: ', first_name)\n",
    "    print('Last name is: ', last_name)"
   ]
  },
  {
   "cell_type": "code",
   "execution_count": 3,
   "metadata": {},
   "outputs": [
    {
     "name": "stdout",
     "output_type": "stream",
     "text": [
      "Abonents count for operator : 0\n"
     ]
    }
   ],
   "source": [
    "phones = [\n",
    "    '+38(061) 999-99-99', \n",
    "    '+38(066) 999-99-99',\n",
    "    '+38(066) 888-88-88', \n",
    "    '+38(050) 777-77-77'\n",
    "]\n",
    "\n",
    "operator_codes = ['067', '097', '068']\n",
    "abonents_count = 0\n",
    "\n",
    "for number in phones :\n",
    "    operator_code = number[4:4+3]\n",
    "    if operator_code in operator_codes :\n",
    "        abonents_count += 1\n",
    "\n",
    "print('Abonents count for operator :', abonents_count)"
   ]
  },
  {
   "cell_type": "code",
   "execution_count": 1,
   "metadata": {},
   "outputs": [
    {
     "name": "stdout",
     "output_type": "stream",
     "text": [
      "set()\n",
      "<class 'set'>\n"
     ]
    }
   ],
   "source": [
    "a = set()\n",
    "print(a)\n",
    "print(type(a))"
   ]
  },
  {
   "cell_type": "code",
   "execution_count": 2,
   "metadata": {},
   "outputs": [
    {
     "name": "stdout",
     "output_type": "stream",
     "text": [
      "{'green', 'red'}\n",
      "<class 'set'>\n"
     ]
    }
   ],
   "source": [
    "a = {'red', 'green'}\n",
    "print(a)\n",
    "print(type(a))"
   ]
  },
  {
   "cell_type": "code",
   "execution_count": 3,
   "metadata": {},
   "outputs": [
    {
     "name": "stdout",
     "output_type": "stream",
     "text": [
      "{'green', 'red'}\n",
      "<class 'set'>\n"
     ]
    }
   ],
   "source": [
    "color = ['red', 'green']\n",
    "color_set = set(color)\n",
    "print(color_set)\n",
    "print(type(color_set))"
   ]
  },
  {
   "cell_type": "code",
   "execution_count": 4,
   "metadata": {},
   "outputs": [
    {
     "name": "stdout",
     "output_type": "stream",
     "text": [
      "{'B', 'i', 'k', 'o'}\n",
      "<class 'set'>\n"
     ]
    }
   ],
   "source": [
    "last_name = 'Boiko'\n",
    "char_set = set(last_name)\n",
    "print(char_set)\n",
    "print(type(char_set))\n"
   ]
  },
  {
   "cell_type": "code",
   "execution_count": 5,
   "metadata": {},
   "outputs": [
    {
     "name": "stdout",
     "output_type": "stream",
     "text": [
      "{1, 2, 3, 4}\n"
     ]
    }
   ],
   "source": [
    "numbers = {1, 2, 3, 1, 2, 4}\n",
    "print(numbers)"
   ]
  },
  {
   "cell_type": "code",
   "execution_count": 6,
   "metadata": {},
   "outputs": [
    {
     "name": "stdout",
     "output_type": "stream",
     "text": [
      "{'097', '066', '093', '063', '067', '099', '050', '068'}\n"
     ]
    }
   ],
   "source": [
    "codes = {'067', '097', '068', '050', '066', '099', '063', '093'}\n",
    "print(codes)"
   ]
  },
  {
   "cell_type": "code",
   "execution_count": 7,
   "metadata": {},
   "outputs": [
    {
     "name": "stdout",
     "output_type": "stream",
     "text": [
      "{1, 2, 3, 4, 'test', 15}\n"
     ]
    }
   ],
   "source": [
    "number = {1, 2, 3}\n",
    "\n",
    "numbers.add(15)\n",
    "numbers.add('test')\n",
    "\n",
    "print(numbers)"
   ]
  },
  {
   "cell_type": "code",
   "execution_count": 8,
   "metadata": {},
   "outputs": [
    {
     "name": "stdout",
     "output_type": "stream",
     "text": [
      "{False, True, 2, 3, 15}\n"
     ]
    }
   ],
   "source": [
    "numbers = {2, 3}\n",
    "\n",
    "numbers.add(15)\n",
    "numbers.add(False)\n",
    "numbers.add(True)\n",
    "\n",
    "print(numbers)"
   ]
  },
  {
   "cell_type": "code",
   "execution_count": 9,
   "metadata": {},
   "outputs": [
    {
     "name": "stdout",
     "output_type": "stream",
     "text": [
      "{20, 'Andrew'}\n"
     ]
    }
   ],
   "source": [
    "name = 'Andrew'\n",
    "years = 20\n",
    "user_info = set()\n",
    "user_info.add(years)\n",
    "user_info.add(name)\n",
    "print(user_info)"
   ]
  },
  {
   "cell_type": "code",
   "execution_count": 12,
   "metadata": {},
   "outputs": [
    {
     "name": "stdout",
     "output_type": "stream",
     "text": [
      "{20, 'Dmytro'}\n",
      "{20}\n",
      "{20}\n"
     ]
    }
   ],
   "source": [
    "name = 'Dmytro'\n",
    "years = 20\n",
    "user_info = set()\n",
    "user_info.add(years)\n",
    "user_info.add(name)\n",
    "print(user_info)\n",
    "\n",
    "user_info.remove(name)\n",
    "print(user_info)\n",
    "user_info.discard(name)\n",
    "print(user_info)"
   ]
  },
  {
   "cell_type": "code",
   "execution_count": 13,
   "metadata": {},
   "outputs": [
    {
     "name": "stdout",
     "output_type": "stream",
     "text": [
      "{'apple', 'cherry', 'banana'}\n",
      "{'milk', 'apple', 'cherry', 'banana', 'plum'}\n",
      "Thanks\n",
      "{'milk', 'apple', 'cherry', 'plum'}\n"
     ]
    }
   ],
   "source": [
    "goods = {\"apple\", \"banana\", \"cherry\"}\n",
    "print(goods)\n",
    "\n",
    "\n",
    "goods.add(input('Enter new good: '))\n",
    "goods.add('banana')\n",
    "goods.add('plum')\n",
    "print(goods)\n",
    "\n",
    "good_for_pay = input('Enter good for buy: ')\n",
    "\n",
    "if good_for_pay in goods :\n",
    "    goods.remove(good_for_pay)\n",
    "    print('Thanks')\n",
    "else :\n",
    "    print('Sorry, ...')\n",
    "\n",
    "    \n",
    "print(goods)"
   ]
  },
  {
   "cell_type": "code",
   "execution_count": 15,
   "metadata": {},
   "outputs": [
    {
     "name": "stdout",
     "output_type": "stream",
     "text": [
      "apple\n",
      "cherry\n",
      "banana\n"
     ]
    }
   ],
   "source": [
    "goods = {\"apple\", \"banana\", \"cherry\"}\n",
    "for good in goods:\n",
    "    print(good)"
   ]
  },
  {
   "cell_type": "code",
   "execution_count": 16,
   "metadata": {},
   "outputs": [
    {
     "name": "stdout",
     "output_type": "stream",
     "text": [
      "{'apple', 'cherry', 'banana'}\n",
      "{'apple', 'cherry', 'banana'}\n",
      "True\n"
     ]
    }
   ],
   "source": [
    "goods_shop_1 = {\"apple\", \"banana\", \"cherry\"}\n",
    "goods_shop_2 = {\"banana\", \"cherry\", \"apple\", \"cherry\"}\n",
    "\n",
    "print(goods_shop_1)\n",
    "print(goods_shop_2)\n",
    "\n",
    "print(goods_shop_1 == goods_shop_2)"
   ]
  },
  {
   "cell_type": "code",
   "execution_count": 17,
   "metadata": {},
   "outputs": [
    {
     "name": "stdout",
     "output_type": "stream",
     "text": [
      "{'milk', 'coffe', 'orange', 'apple', 'cherry', 'banana'}\n"
     ]
    }
   ],
   "source": [
    "goods_shop_1 = {\"apple\", \"banana\", \"cherry\", \"orange\"}\n",
    "goods_shop_2 = {\"banana\", \"cherry\", \"milk\", \"coffe\"}\n",
    "\n",
    "all_goods = goods_shop_1 | goods_shop_2\n",
    "print(all_goods)"
   ]
  },
  {
   "cell_type": "code",
   "execution_count": 18,
   "metadata": {},
   "outputs": [
    {
     "name": "stdout",
     "output_type": "stream",
     "text": [
      "{'milk', 'coffe', 'orange', 'apple', 'cherry', 'banana'}\n"
     ]
    }
   ],
   "source": [
    "goods_shop_1 = {\"apple\", \"banana\", \"cherry\", \"orange\"}\n",
    "goods_shop_2 = {\"banana\", \"cherry\", \"milk\", \"coffe\"}\n",
    "\n",
    "all_goods = goods_shop_1.union(goods_shop_2)\n",
    "print(all_goods)"
   ]
  },
  {
   "cell_type": "code",
   "execution_count": 20,
   "metadata": {},
   "outputs": [
    {
     "name": "stdout",
     "output_type": "stream",
     "text": [
      "{'cherry', 'banana'}\n"
     ]
    }
   ],
   "source": [
    "goods_shop_1 = {\"apple\", \"banana\", \"cherry\", \"orange\"}\n",
    "goods_shop_2 = {\"banana\", \"cherry\", \"milk\", \"coffe\"}\n",
    "\n",
    "goods = goods_shop_1 & goods_shop_2\n",
    "print(goods)"
   ]
  },
  {
   "cell_type": "code",
   "execution_count": 21,
   "metadata": {},
   "outputs": [
    {
     "name": "stdout",
     "output_type": "stream",
     "text": [
      "{'cherry', 'banana'}\n"
     ]
    }
   ],
   "source": [
    "goods_shop_1 = {\"apple\", \"banana\", \"cherry\", \"orange\"}\n",
    "goods_shop_2 = {\"banana\", \"cherry\", \"milk\", \"coffe\"}\n",
    "\n",
    "goods = goods_shop_1.intersection(goods_shop_2)\n",
    "print(goods)"
   ]
  },
  {
   "cell_type": "code",
   "execution_count": 1,
   "metadata": {},
   "outputs": [
    {
     "name": "stdout",
     "output_type": "stream",
     "text": [
      "{'coffe', 'milk'}\n"
     ]
    }
   ],
   "source": [
    "goods_shop_1 = {\"apple\", \"banana\", \"cherry\", \"orange\"}\n",
    "goods_shop_2 = {\"banana\", \"cherry\", \"milk\", \"coffe\"}\n",
    "\n",
    "goods = goods_shop_2 - goods_shop_1\n",
    "print(goods)"
   ]
  },
  {
   "cell_type": "code",
   "execution_count": 23,
   "metadata": {},
   "outputs": [
    {
     "data": {
      "text/plain": [
       "4"
      ]
     },
     "execution_count": 23,
     "metadata": {},
     "output_type": "execute_result"
    }
   ],
   "source": [
    "goods_shop_1 = {\"apple\", \"banana\", \"cherry\", \"orange\"}\n",
    "len(goods_shop_1)"
   ]
  },
  {
   "cell_type": "code",
   "execution_count": null,
   "metadata": {},
   "outputs": [],
   "source": []
  }
 ],
 "metadata": {
  "kernelspec": {
   "display_name": "Python 3.10.4 64-bit",
   "language": "python",
   "name": "python3"
  },
  "language_info": {
   "codemirror_mode": {
    "name": "ipython",
    "version": 3
   },
   "file_extension": ".py",
   "mimetype": "text/x-python",
   "name": "python",
   "nbconvert_exporter": "python",
   "pygments_lexer": "ipython3",
   "version": "3.10.4"
  },
  "orig_nbformat": 4,
  "vscode": {
   "interpreter": {
    "hash": "2c31e1d31e05c61b8bafb03ef6c4d1f650a8ebaef842291d4d6f1f79677a4a27"
   }
  }
 },
 "nbformat": 4,
 "nbformat_minor": 2
}
