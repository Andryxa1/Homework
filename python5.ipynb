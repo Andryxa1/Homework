{
 "cells": [
  {
   "cell_type": "code",
   "execution_count": 2,
   "metadata": {},
   "outputs": [
    {
     "name": "stdout",
     "output_type": "stream",
     "text": [
      "First name is:  Andrew\n",
      "Last name is:  Boiko\n"
     ]
    }
   ],
   "source": [
    "pip = 'Andrew Boiko'\n",
    "delimiter = ' '\n",
    "\n",
    "if not delimiter in pip:\n",
    "    print('error')\n",
    "else:\n",
    "    position = pip.find(delimiter);\n",
    "    \n",
    "    first_name = pip[0:position]\n",
    "    last_name = pip[position + 1:]\n",
    "    \n",
    "    print('First name is: ', first_name)\n",
    "    print('Last name is: ', last_name)"
   ]
  },
  {
   "cell_type": "code",
   "execution_count": 3,
   "metadata": {},
   "outputs": [
    {
     "name": "stdout",
     "output_type": "stream",
     "text": [
      "Abonents count for operator : 0\n"
     ]
    }
   ],
   "source": [
    "phones = [\n",
    "    '+38(061) 999-99-99', \n",
    "    '+38(066) 999-99-99',\n",
    "    '+38(066) 888-88-88', \n",
    "    '+38(050) 777-77-77'\n",
    "]\n",
    "\n",
    "operator_codes = ['067', '097', '068']\n",
    "abonents_count = 0\n",
    "\n",
    "for number in phones :\n",
    "    operator_code = number[4:4+3]\n",
    "    if operator_code in operator_codes :\n",
    "        abonents_count += 1\n",
    "\n",
    "print('Abonents count for operator :', abonents_count)"
   ]
  }
 ],
 "metadata": {
  "kernelspec": {
   "display_name": "Python 3.10.4 64-bit",
   "language": "python",
   "name": "python3"
  },
  "language_info": {
   "codemirror_mode": {
    "name": "ipython",
    "version": 3
   },
   "file_extension": ".py",
   "mimetype": "text/x-python",
   "name": "python",
   "nbconvert_exporter": "python",
   "pygments_lexer": "ipython3",
   "version": "3.10.4"
  },
  "orig_nbformat": 4,
  "vscode": {
   "interpreter": {
    "hash": "2c31e1d31e05c61b8bafb03ef6c4d1f650a8ebaef842291d4d6f1f79677a4a27"
   }
  }
 },
 "nbformat": 4,
 "nbformat_minor": 2
}
