{
 "cells": [
  {
   "cell_type": "code",
   "execution_count": null,
   "metadata": {},
   "outputs": [],
   "source": [
    "continent_west = ['North America', 'Africa', 'South America', 'Eurasia', 'Antarktyda']\n",
    "continent_east = ['Australia']\n",
    "continent = list ()\n",
    "\n",
    "continent.extend (continent_west)\n",
    "continent.extend (continent_east)\n",
    "\n",
    "continent.sort ()\n",
    "print(continent)"
   ]
  },
  {
   "cell_type": "code",
   "execution_count": 4,
   "metadata": {},
   "outputs": [
    {
     "name": "stdout",
     "output_type": "stream",
     "text": [
      "Постачання продуктів\n",
      "Апельсин Банан Мандарин Апельсин Картопля Цибуля Продаж продуктів за назвою:\n",
      "Дякуємо за покупку\n",
      "Продаж продуктів за номером:\n",
      "Ви купили Мандарин\n",
      "Дякуємо за покупку\n",
      "Банан Картопля молода Картопля рожева Апельсин Картопля Цибуля  \n",
      "Апельсин\n",
      "Мандарин\n"
     ]
    }
   ],
   "source": [
    "products = ['Апельсин', 'Банан', 'Мандарин']\n",
    "products_sold = list()\n",
    "\n",
    "print('Постачання продуктів')\n",
    "\n",
    "while True:\n",
    "    product = input('Введіть назву продукту або 0 для виходу: ')\n",
    "\n",
    "    if product == '0' :\n",
    "        break\n",
    "    else:\n",
    "        products.append(product)\n",
    "\n",
    "products.extend(['Картопля', 'Цибуля'])\n",
    "\n",
    "for product in products:\n",
    "    print(product, end=' ')\n",
    "\n",
    "\n",
    "print('Продаж продуктів за назвою:')\n",
    "product = input('Введіть назву продукту, який бажаєте купити: ')\n",
    "\n",
    "if product in products:\n",
    "  # видаляємо - продано, більше немає\n",
    "    products.remove(product)\n",
    "    products_sold.append(product)\n",
    "    print('Дякуємо за покупку')\n",
    "else:\n",
    "    print('Вказаного продукту немає в наявності')\n",
    "\n",
    "\n",
    "print('Продаж продуктів за номером:')\n",
    "product_index = int(input('Введіть номер продукту, який бажаєте купити: '))\n",
    "\n",
    "if 0 <= product_index < len(products):\n",
    "    product = products.pop(product_index)\n",
    "    products_sold.append(product)\n",
    "    print('Ви купили', product)\n",
    "    print('Дякуємо за покупку')\n",
    "else:\n",
    "    print('Неправильно вказаний номер')\n",
    "\n",
    "\n",
    "products.insert(1, 'Картопля молода')\n",
    "products.insert(2, 'Картопля рожева')\n",
    "\n",
    "for product in products:\n",
    "    print(product, end=' ')\n",
    "\n",
    "\n",
    "print(' ')\n",
    "\n",
    "index_potato = products.index('Картопля молода')\n",
    "products[index_potato] = 'Картопля біла'\n",
    "\n",
    "\n",
    "for product in products_sold:\n",
    "    print(product)"
   ]
  }
 ],
 "metadata": {
  "kernelspec": {
   "display_name": "Python 3.10.4 64-bit",
   "language": "python",
   "name": "python3"
  },
  "language_info": {
   "codemirror_mode": {
    "name": "ipython",
    "version": 3
   },
   "file_extension": ".py",
   "mimetype": "text/x-python",
   "name": "python",
   "nbconvert_exporter": "python",
   "pygments_lexer": "ipython3",
   "version": "3.10.4"
  },
  "orig_nbformat": 4,
  "vscode": {
   "interpreter": {
    "hash": "2c31e1d31e05c61b8bafb03ef6c4d1f650a8ebaef842291d4d6f1f79677a4a27"
   }
  }
 },
 "nbformat": 4,
 "nbformat_minor": 2
}
