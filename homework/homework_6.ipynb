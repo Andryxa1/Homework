{
 "cells": [
  {
   "cell_type": "code",
   "execution_count": 35,
   "metadata": {},
   "outputs": [
    {
     "name": "stdout",
     "output_type": "stream",
     "text": [
      "Andrew\n",
      "ate\n",
      "all\n",
      "the\n",
      "dumplings\n",
      "The largest world is:  dumplings\n"
     ]
    }
   ],
   "source": [
    "sent = 'Andrew ate all the dumplings'\n",
    "delimeter = ' '\n",
    "sentence = sentence.rstrip()\n",
    "fix = ' .'\n",
    "sentence = sent + fix\n",
    "\n",
    "is_last = False\n",
    "space_position_prev = 0\n",
    "word_max = ''\n",
    "\n",
    "while not is_last:\n",
    "    space_position_current = sentence.find(delimeter, space_position_prev)\n",
    "    if space_position_current == -1:\n",
    "        print('The largest world is: ', word_max)\n",
    "        break\n",
    "    else:\n",
    "        word = sentence[space_position_prev : space_position_current]\n",
    "        print(word)\n",
    "        space_position_prev = space_position_current + 1\n",
    "\n",
    "        if len(word) > len(word_max):\n",
    "            word_max = word"
   ]
  }
 ],
 "metadata": {
  "kernelspec": {
   "display_name": "Python 3.10.4 64-bit",
   "language": "python",
   "name": "python3"
  },
  "language_info": {
   "codemirror_mode": {
    "name": "ipython",
    "version": 3
   },
   "file_extension": ".py",
   "mimetype": "text/x-python",
   "name": "python",
   "nbconvert_exporter": "python",
   "pygments_lexer": "ipython3",
   "version": "3.10.4"
  },
  "orig_nbformat": 4,
  "vscode": {
   "interpreter": {
    "hash": "2c31e1d31e05c61b8bafb03ef6c4d1f650a8ebaef842291d4d6f1f79677a4a27"
   }
  }
 },
 "nbformat": 4,
 "nbformat_minor": 2
}
