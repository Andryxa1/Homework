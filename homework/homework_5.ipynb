{
 "cells": [
  {
   "cell_type": "code",
   "execution_count": 30,
   "metadata": {},
   "outputs": [
    {
     "name": "stdout",
     "output_type": "stream",
     "text": [
      "o\n"
     ]
    }
   ],
   "source": [
    "last_name = 'Boiko'\n",
    "repeat = ''\n",
    "count = 0\n",
    "for letter in last_name:\n",
    "    if letter == letter:\n",
    "        repeat = letter\n",
    "print(repeat)\n",
    "\n"
   ]
  },
  {
   "cell_type": "code",
   "execution_count": 22,
   "metadata": {},
   "outputs": [
    {
     "data": {
      "text/plain": [
       "2"
      ]
     },
     "execution_count": 22,
     "metadata": {},
     "output_type": "execute_result"
    }
   ],
   "source": [
    "last_name = ['b', 'o', 'i', 'k', 'o']\n",
    "last_name.count('o')"
   ]
  },
  {
   "cell_type": "code",
   "execution_count": 79,
   "metadata": {},
   "outputs": [
    {
     "name": "stdout",
     "output_type": "stream",
     "text": [
      "[]\n"
     ]
    }
   ],
   "source": [
    "string = input()\n",
    "numbers = []\n",
    "\n",
    "n = ''\n",
    "for char in string: \n",
    "    if char.isdigit():\n",
    "         n += char\n",
    "    else:\n",
    "        if n.isidigit():  \n",
    "            numbers.append(int(n))  \n",
    "\n",
    "print(numbers)"
   ]
  },
  {
   "cell_type": "code",
   "execution_count": 74,
   "metadata": {},
   "outputs": [
    {
     "name": "stdout",
     "output_type": "stream",
     "text": [
      "['+380679999999']\n"
     ]
    }
   ],
   "source": [
    "phones = ['+380679999999'] \n",
    "length = 5\n",
    "if len(phones) != length:\n",
    "    print(phones)\n",
    "elif phones[0:2] != '+38':\n",
    "    print(phones)\n",
    "elif phones[3:5]  != ['067', '097', '068', '044']:\n",
    "    print(phones)\n",
    "else:\n",
    "    print()"
   ]
  },
  {
   "cell_type": "code",
   "execution_count": 80,
   "metadata": {},
   "outputs": [
    {
     "name": "stdout",
     "output_type": "stream",
     "text": [
      "Abonents count for operator : 4\n"
     ]
    }
   ],
   "source": [
    "phones = [\n",
    "    '+38(061) 999-99-99', \n",
    "    '+38(066) 999-99-99',\n",
    "    '+38(066) 888-88-88', \n",
    "    '+38(050) 777-77-77'\n",
    "]\n",
    "\n",
    "operator_codes = ['067', '097', '068']\n",
    "abonents_count = 0\n",
    "\n",
    "for number in phones :\n",
    "    operator_code = number[4:4+3]\n",
    "    if not operator_code in operator_codes :\n",
    "        abonents_count += 1\n",
    "\n",
    "print(abonents_count)"
   ]
  }
 ],
 "metadata": {
  "kernelspec": {
   "display_name": "Python 3.10.4 64-bit",
   "language": "python",
   "name": "python3"
  },
  "language_info": {
   "codemirror_mode": {
    "name": "ipython",
    "version": 3
   },
   "file_extension": ".py",
   "mimetype": "text/x-python",
   "name": "python",
   "nbconvert_exporter": "python",
   "pygments_lexer": "ipython3",
   "version": "3.10.4"
  },
  "orig_nbformat": 4,
  "vscode": {
   "interpreter": {
    "hash": "2c31e1d31e05c61b8bafb03ef6c4d1f650a8ebaef842291d4d6f1f79677a4a27"
   }
  }
 },
 "nbformat": 4,
 "nbformat_minor": 2
}
