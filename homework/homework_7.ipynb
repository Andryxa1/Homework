{
 "cells": [
  {
   "cell_type": "code",
   "execution_count": null,
   "metadata": {},
   "outputs": [],
   "source": [
    "students = {\n",
    "    'Andrew': 3,\n",
    "    'Igor': 4,\n",
    "    'Sergey': 2,\n",
    "    'Tanya': 5\n",
    "}\n",
    "\n",
    "bestStudents={}\n",
    "\n",
    "for name in students:\n",
    "    if(students[name] >3 ):\n",
    "        bestStudents.update({name: students[name]})\n",
    "\n",
    "print(bestStudents)"
   ]
  },
  {
   "cell_type": "code",
   "execution_count": 51,
   "metadata": {},
   "outputs": [
    {
     "name": "stdout",
     "output_type": "stream",
     "text": [
      "the coldest Temp is 18\n",
      "Average temp is 21\n"
     ]
    }
   ],
   "source": [
    "weather = {\n",
    "    'Kyiv': 26,\n",
    "    'Kharkiv': 18,\n",
    "    'Lviv': 20\n",
    "}\n",
    "question = input('type Kyiv, Kharkiv or Lviv')\n",
    "\n",
    "suma = 0\n",
    "tempList = []\n",
    "\n",
    "for city in weather:\n",
    "    suma += weather[city]\n",
    "\n",
    "    tempList.append(weather[city])    \n",
    "\n",
    "tempList.sort()\n",
    "\n",
    "print('The coldest Temp is', *tempList[:1])\n",
    "\n",
    "\n",
    "print('Average temp is', suma//len(weather))\n",
    "\n"
   ]
  }
 ],
 "metadata": {
  "kernelspec": {
   "display_name": "Python 3.10.4 64-bit",
   "language": "python",
   "name": "python3"
  },
  "language_info": {
   "codemirror_mode": {
    "name": "ipython",
    "version": 3
   },
   "file_extension": ".py",
   "mimetype": "text/x-python",
   "name": "python",
   "nbconvert_exporter": "python",
   "pygments_lexer": "ipython3",
   "version": "3.10.4"
  },
  "orig_nbformat": 4,
  "vscode": {
   "interpreter": {
    "hash": "2c31e1d31e05c61b8bafb03ef6c4d1f650a8ebaef842291d4d6f1f79677a4a27"
   }
  }
 },
 "nbformat": 4,
 "nbformat_minor": 2
}
