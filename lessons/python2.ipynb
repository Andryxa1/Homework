{
 "cells": [
  {
   "cell_type": "code",
   "execution_count": null,
   "metadata": {},
   "outputs": [],
   "source": [
    "greeting = 'Hello, Word'\n",
    "count = 0\n",
    "\n",
    "for item in greeting:\n",
    "    print(item, end = ' ')\n",
    "    count +=1\n",
    "else:\n",
    "    print()\n",
    "    print('lenth', greeting, '=', count)"
   ]
  },
  {
   "cell_type": "code",
   "execution_count": null,
   "metadata": {},
   "outputs": [],
   "source": [
    "PY_10 = ['Nazar Prytula', 'Andrew Boiko', 'Максим Гербрант', 'FrostBan']\n",
    "pupil_located = 'Максим'\n",
    "\n",
    "\n",
    "for pupil in PY_10 :\n",
    "    if(pupil == pupil_located):\n",
    "        print('present')\n",
    "        break\n",
    "else:\n",
    "    print('not present')"
   ]
  },
  {
   "cell_type": "code",
   "execution_count": null,
   "metadata": {},
   "outputs": [],
   "source": [
    "first_name, last_name = input().split(' ')\n",
    "print(first_name)\n",
    "print(last_name)\n"
   ]
  },
  {
   "cell_type": "code",
   "execution_count": null,
   "metadata": {},
   "outputs": [],
   "source": [
    "numbers = [ int(i) for i in input().split() ]\n",
    "#print(type(numbers))\n",
    "\n",
    "#numbers = [43, 50, 47]\n",
    "suma = 0\n",
    "\n",
    "for number in numbers :\n",
    "    suma += number\n",
    "    #suma = suma + number\n",
    "    \n",
    "\n",
    "print(suma)"
   ]
  },
  {
   "cell_type": "code",
   "execution_count": null,
   "metadata": {},
   "outputs": [],
   "source": [
    "a = 4\n",
    "b = 7\n",
    "c = 2\n",
    "d = 8\n",
    "\n",
    "#print header\n",
    "print(end = '\\t')\n",
    "for i in range(c, d + 1) :\n",
    "    print(i, end = '\\t')\n",
    "print(\"\")\n",
    "    \n",
    "#print table\n",
    "for i in range(a, b + 1) :\n",
    "    print(i, end = '\\t')\n",
    "    for j in range(c, d + 1) :\n",
    "        print(i * j, end = '\\t')\n",
    "    print(\"\")"
   ]
  },
  {
   "cell_type": "code",
   "execution_count": null,
   "metadata": {},
   "outputs": [],
   "source": [
    "a = 80\n",
    "b = 930\n",
    "\n",
    "sum = 0 \n",
    "count = 0\n",
    "\n",
    "while (a <= b):\n",
    "    if (a % 3) == 0 :\n",
    "        sum += a \n",
    "        count += 1\n",
    "    a += 1\n",
    "\n",
    "print(sum / count)"
   ]
  },
  {
   "cell_type": "code",
   "execution_count": null,
   "metadata": {},
   "outputs": [],
   "source": [
    "a = 1\n",
    "\n",
    "while a < 10:\n",
    "    print('iteration', a)\n",
    "    a += 1\n",
    "    if not a % 2:\n",
    "        continue\n",
    "    \n",
    "    print('number')\n",
    "    print(a)\n",
    "\n",
    "print('End')"
   ]
  },
  {
   "cell_type": "code",
   "execution_count": null,
   "metadata": {},
   "outputs": [],
   "source": [
    "while True:\n",
    "    i = int(input())\n",
    "    \n",
    "    if i > 100 : \n",
    "        break\n",
    "    \n",
    "    if i < 20 : \n",
    "        continue\n",
    "    \n",
    "    print(i)\n",
    "\n",
    "print('End')"
   ]
  },
  {
   "cell_type": "code",
   "execution_count": 6,
   "metadata": {},
   "outputs": [
    {
     "name": "stdout",
     "output_type": "stream",
     "text": [
      "49\n"
     ]
    }
   ],
   "source": [
    "a = int (input())\n",
    "b = int (input ())\n",
    "suma = 0 \n",
    "a += 1\n",
    "for x in range(a, b):\n",
    "   suma =  x*x \n",
    "\n",
    "print (suma)"
   ]
  },
  {
   "cell_type": "code",
   "execution_count": 84,
   "metadata": {},
   "outputs": [
    {
     "name": "stdout",
     "output_type": "stream",
     "text": [
      "2\n"
     ]
    }
   ],
   "source": [
    "word = input('enter a word')\n",
    "symbol = input('enter a symbol')\n",
    "count = 0\n",
    "for chir in word:\n",
    "    if chir == symbol:\n",
    "        count += 1\n",
    "print(count)"
   ]
  },
  {
   "cell_type": "code",
   "execution_count": 12,
   "metadata": {},
   "outputs": [
    {
     "name": "stdout",
     "output_type": "stream",
     "text": [
      "This will be your first trip in  Dnepr\n"
     ]
    }
   ],
   "source": [
    "city_1 = 'Batumi'\n",
    "city_2 = 'Kyiv'\n",
    "city_3 = 'Lviv'\n",
    "city_4 = 'Bucharest'\n",
    "question = input('Enter a city you’ve never been')\n",
    "if question == city_1:\n",
    "    print('You’ve already been in ', question)\n",
    "elif question == city_2:\n",
    "    print('You’ve already been in ', question)\n",
    "elif question == city_3:\n",
    "    print('You’ve already been in ', question)\n",
    "elif question == city_4:\n",
    "    print('You’ve already been in ', question)\n",
    "else:\n",
    "    print('This will be your first trip in ', question)\n",
    "\n"
   ]
  },
  {
   "cell_type": "code",
   "execution_count": 31,
   "metadata": {},
   "outputs": [
    {
     "name": "stdout",
     "output_type": "stream",
     "text": [
      "You have never been there\n",
      "You have never been there\n",
      "You’ve already been in this city\n"
     ]
    }
   ],
   "source": [
    "cities = ['Kyiv', 'Lviv', 'Batumi', 'Bucharest',]\n",
    "city = input('enter a city')\n",
    "for city_visited in cities:\n",
    "    if city_visited == city:\n",
    "        print('You’ve already been in this city')\n",
    "        break\n",
    "    else:\n",
    "        print('You have never been there') "
   ]
  },
  {
   "cell_type": "code",
   "execution_count": null,
   "metadata": {},
   "outputs": [],
   "source": []
  }
 ],
 "metadata": {
  "interpreter": {
   "hash": "2c31e1d31e05c61b8bafb03ef6c4d1f650a8ebaef842291d4d6f1f79677a4a27"
  },
  "kernelspec": {
   "display_name": "Python 3.10.4 64-bit",
   "language": "python",
   "name": "python3"
  },
  "language_info": {
   "codemirror_mode": {
    "name": "ipython",
    "version": 3
   },
   "file_extension": ".py",
   "mimetype": "text/x-python",
   "name": "python",
   "nbconvert_exporter": "python",
   "pygments_lexer": "ipython3",
   "version": "3.10.4"
  },
  "orig_nbformat": 4
 },
 "nbformat": 4,
 "nbformat_minor": 2
}
