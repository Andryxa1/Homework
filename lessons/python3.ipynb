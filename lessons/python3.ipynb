{
 "cells": [
  {
   "cell_type": "code",
   "execution_count": 3,
   "metadata": {},
   "outputs": [
    {
     "name": "stdout",
     "output_type": "stream",
     "text": [
      "['a', 'b', 'c']\n",
      "[1, 2, 3]\n",
      "['Andrew', 'Boiko', 15, True]\n"
     ]
    }
   ],
   "source": [
    "chars = list('abc')\n",
    "print(chars)\n",
    "\n",
    "user_input = (1, 2, 3)\n",
    "numbers = list(user_input)\n",
    "print(numbers)\n",
    "\n",
    "pupil_info = list(('Andrew', 'Boiko', 15, True))\n",
    "print(pupil_info)"
   ]
  },
  {
   "cell_type": "code",
   "execution_count": 1,
   "metadata": {},
   "outputs": [
    {
     "data": {
      "text/plain": [
       "20"
      ]
     },
     "execution_count": 1,
     "metadata": {},
     "output_type": "execute_result"
    }
   ],
   "source": [
    "PY_10 = [\n",
    "['Ivanov', 'Ivan', 45, True],\n",
    "['Petrov', 'Petro', 28, True],\n",
    "['Kovalyuk', 'Dmytro', 20, False]\n",
    "]\n",
    "PY_10[2][2]"
   ]
  },
  {
   "cell_type": "code",
   "execution_count": 2,
   "metadata": {},
   "outputs": [
    {
     "name": "stdout",
     "output_type": "stream",
     "text": [
      "['a', 'b', 'c', 17]\n"
     ]
    }
   ],
   "source": [
    "numbers = ['a', 'b']\n",
    "numbers.append('c')\n",
    "numbers.append('t')\n",
    "numbers[3] = 17\n",
    "\n",
    "print(numbers)"
   ]
  },
  {
   "cell_type": "code",
   "execution_count": 6,
   "metadata": {},
   "outputs": [
    {
     "name": "stdout",
     "output_type": "stream",
     "text": [
      "[1, 2]\n",
      "[]\n",
      "<class 'list'>\n",
      "['new value']\n"
     ]
    }
   ],
   "source": [
    "num = [1, 2]\n",
    "print(num)\n",
    "\n",
    "num.clear()\n",
    "print(num)\n",
    "print(type(num))\n",
    "\n",
    "num.append('new value')\n",
    "print(num)"
   ]
  },
  {
   "cell_type": "code",
   "execution_count": 8,
   "metadata": {},
   "outputs": [
    {
     "name": "stdout",
     "output_type": "stream",
     "text": [
      "['a', 'P']\n"
     ]
    }
   ],
   "source": [
    "chars = ['a', 'D', 'P', 'D']\n",
    "chars.remove('D')\n",
    "chars.remove('D')\n",
    "print(chars)"
   ]
  },
  {
   "cell_type": "code",
   "execution_count": 10,
   "metadata": {},
   "outputs": [
    {
     "name": "stdout",
     "output_type": "stream",
     "text": [
      "['D', 'P', 'D']\n",
      "a\n"
     ]
    }
   ],
   "source": [
    "chars = ['a', 'D', 'P', 'D']\n",
    "last = chars.pop(0)\n",
    "print(chars)\n",
    "print(last)"
   ]
  },
  {
   "cell_type": "code",
   "execution_count": 11,
   "metadata": {},
   "outputs": [
    {
     "name": "stdout",
     "output_type": "stream",
     "text": [
      "['a', 'D', 'P']\n"
     ]
    }
   ],
   "source": [
    "chars = ['a', 'D', 'P', 'D']\n",
    "del chars[3]\n",
    "print(chars)\n"
   ]
  },
  {
   "cell_type": "code",
   "execution_count": 12,
   "metadata": {},
   "outputs": [
    {
     "name": "stdout",
     "output_type": "stream",
     "text": [
      "['a', 'b', 1, 2]\n"
     ]
    }
   ],
   "source": [
    "chars = ['a', 'b']\n",
    "numbers = [1, 2]\n",
    "\n",
    "chars.extend(numbers)\n",
    "print(chars)"
   ]
  },
  {
   "cell_type": "code",
   "execution_count": 17,
   "metadata": {},
   "outputs": [
    {
     "name": "stdout",
     "output_type": "stream",
     "text": [
      "[1, 2, 3, 4, 10, 15, 'test']\n"
     ]
    }
   ],
   "source": [
    "numbers = [1, 2, 4, 15]\n",
    "\n",
    "index = 2\n",
    "new_value = 3\n",
    "\n",
    "numbers.insert(index, new_value)\n",
    "numbers.insert(4, 10)\n",
    "\n",
    "numbers.insert(14, 'test')\n",
    "\n",
    "print(numbers)"
   ]
  },
  {
   "cell_type": "code",
   "execution_count": 19,
   "metadata": {},
   "outputs": [
    {
     "name": "stdout",
     "output_type": "stream",
     "text": [
      "1\n",
      "['Andrew', 'Oleh', 'Dmytro', 'Tetiana', 'Oleh']\n"
     ]
    }
   ],
   "source": [
    "pupils = ['Andrew', 'Oleh', 'Dmytro', 'Tetiana', 'Oleh']\n",
    "\n",
    "index = pupils.index('Oleh')\n",
    "\n",
    "print(index)\n",
    "print(pupils)"
   ]
  },
  {
   "cell_type": "code",
   "execution_count": 21,
   "metadata": {},
   "outputs": [
    {
     "name": "stdout",
     "output_type": "stream",
     "text": [
      "Oleh K is not in list\n",
      "['Andrew', 'Oleh', 'Dmytro', 'Tetiana', 'Maxim', 'Oleh']\n"
     ]
    }
   ],
   "source": [
    "pupils = ['Andrew', 'Oleh', 'Dmytro', 'Tetiana', 'Maxim', 'Oleh']\n",
    "\n",
    "pupil_search = 'Oleh K'\n",
    "\n",
    "if pupil_search in pupils:\n",
    "    index = pupils.index(pupil_search)\n",
    "    del pupils[index]\n",
    "else:\n",
    "    print(pupil_search, 'is not in list')    \n",
    "\n",
    "print(pupils)"
   ]
  },
  {
   "cell_type": "code",
   "execution_count": 22,
   "metadata": {},
   "outputs": [
    {
     "name": "stdout",
     "output_type": "stream",
     "text": [
      "2\n"
     ]
    }
   ],
   "source": [
    "chars = ['a', 'b', 'c', 'd', 'a']\n",
    "a_count = chars.count('a')\n",
    "print(a_count)"
   ]
  },
  {
   "cell_type": "code",
   "execution_count": 23,
   "metadata": {},
   "outputs": [
    {
     "name": "stdout",
     "output_type": "stream",
     "text": [
      "['a', 'b', 'f', 'z']\n"
     ]
    }
   ],
   "source": [
    "chars = ['z', 'f', 'a', 'b']\n",
    "chars.sort()\n",
    "print(chars)"
   ]
  },
  {
   "cell_type": "code",
   "execution_count": null,
   "metadata": {},
   "outputs": [],
   "source": [
    "products = ['Апельсин', 'Банан', 'Мандарин']\n",
    "products_sold = list()\n",
    "\n",
    "print('Постачання продуктів')\n",
    "\n",
    "while True:\n",
    "    product = input('Введіть назву продукту або 0 для виходу: ')\n",
    "\n",
    "    if product == '0' :\n",
    "        break\n",
    "    else:\n",
    "        products.append(product)\n",
    "\n",
    "products.extend(['Картопля', 'Цибуля'])\n",
    "\n",
    "for product in products:\n",
    "    print(product, end=' ')\n",
    "\n",
    "\n",
    "print('Продаж продуктів за назвою:')\n",
    "product = input('Введіть назву продукту, який бажаєте купити: ')\n",
    "\n",
    "if product in products:\n",
    "    products.remove(product)\n",
    "    products_sold.append(product)\n",
    "    print('Дякуємо за покупку')\n",
    "else:\n",
    "    print('Вказаного продукту немає в наявності')\n",
    "\n",
    "\n",
    "print('Продаж продуктів за номером:')\n",
    "product_index = int(input('Введіть номер продукту, який бажаєте купити: '))\n",
    "\n",
    "if 0 <= product_index < len(products):\n",
    "    product = products.pop(product_index)\n",
    "    products_sold.append(product)\n",
    "    print('Ви купили', product)\n",
    "    print('Дякуємо за покупку')\n",
    "else:\n",
    "    print('Неправильно вказаний номер')\n",
    "\n",
    "\n",
    "products.insert(1, 'Картопля молода')\n",
    "products.insert(2, 'Картопля рожева')\n",
    "\n",
    "for product in products:\n",
    "    print(product, end=' ')\n",
    "\n",
    "\n",
    "print(' ')\n",
    "\n",
    "index_potato = products.index('Картопля молода')\n",
    "products[index_potato] = 'Картопля біла'\n",
    "\n",
    "\n",
    "for product in products_sold:\n",
    "    print(product)"
   ]
  },
  {
   "cell_type": "code",
   "execution_count": null,
   "metadata": {},
   "outputs": [],
   "source": [
    " "
   ]
  }
 ],
 "metadata": {
  "kernelspec": {
   "display_name": "Python 3.10.4 64-bit",
   "language": "python",
   "name": "python3"
  },
  "language_info": {
   "codemirror_mode": {
    "name": "ipython",
    "version": 3
   },
   "file_extension": ".py",
   "mimetype": "text/x-python",
   "name": "python",
   "nbconvert_exporter": "python",
   "pygments_lexer": "ipython3",
   "version": "3.10.4"
  },
  "orig_nbformat": 4,
  "vscode": {
   "interpreter": {
    "hash": "2c31e1d31e05c61b8bafb03ef6c4d1f650a8ebaef842291d4d6f1f79677a4a27"
   }
  }
 },
 "nbformat": 4,
 "nbformat_minor": 2
}
