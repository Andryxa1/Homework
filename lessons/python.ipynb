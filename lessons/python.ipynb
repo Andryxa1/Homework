{
 "cells": [
  {
   "cell_type": "code",
   "execution_count": 7,
   "metadata": {},
   "outputs": [
    {
     "name": "stdout",
     "output_type": "stream",
     "text": [
      "You are still young.\n"
     ]
    }
   ],
   "source": [
    "age = 9\n",
    "if age >= 18:\n",
    "    print('You can drive.')\n",
    "else:\n",
    "    print('You are still young.')\n",
    "\n"
   ]
  },
  {
   "cell_type": "code",
   "execution_count": 10,
   "metadata": {},
   "outputs": [
    {
     "name": "stdout",
     "output_type": "stream",
     "text": [
      "Это число - ноль\n"
     ]
    }
   ],
   "source": [
    "a = input('Введите число')\n",
    "a = int(a)\n",
    "if a > 0:\n",
    "    print('Число положительное')\n",
    "elif a < 0:\n",
    "    print(\"Число отрицательное\")\n",
    "else:\n",
    "    print('Это число - ноль')"
   ]
  },
  {
   "cell_type": "code",
   "execution_count": 10,
   "metadata": {},
   "outputs": [
    {
     "name": "stdout",
     "output_type": "stream",
     "text": [
      "7 / 2 = 3.5\n"
     ]
    }
   ],
   "source": [
    "operand_1 = int(input('Введите число A'))\n",
    "operand_2 = int(input('Введите число B'))\n",
    "operation = input('Enter operation: | + | - | * |')\n",
    "\n",
    "result = None\n",
    "if operation == '+':\n",
    "    result = operand_1 + operand_2\n",
    "elif operation == '-':\n",
    "    result = operand_1 - operand_2\n",
    "elif operation == '/':\n",
    "    result = operand_1 / operand_2\n",
    "elif operation == '*':\n",
    "    result = operand_1 * operand_2\n",
    "else:\n",
    "    print('Operation not supported:', operation)\n",
    "\n",
    "if(result != None):\n",
    "    print(operand_1, operation, operand_2, '=', result)"
   ]
  },
  {
   "cell_type": "code",
   "execution_count": 8,
   "metadata": {},
   "outputs": [
    {
     "name": "stdout",
     "output_type": "stream",
     "text": [
      "Студент   Бойко  набрав 44   балів та отримав оцінку   незадовільно\n"
     ]
    }
   ],
   "source": [
    "last_name = input(\"Яке ваше прізвище?\")\n",
    "points = int(input(\"Яка ваша кількість балів?\"))\n",
    "\n",
    "result = None\n",
    "if (points < 60):\n",
    "    orange = 'незадовільно'\n",
    "    result = print(f\"Студент   {last_name}  набрав {points}   балів та отримав оцінку   {orange}\")\n",
    "elif (points >= 60) and (points <= 74):\n",
    "    orange = 'задовільно'\n",
    "    result= print(f\"Студент   {last_name}  набрав {points}   балів та отримав оцінку   {orange}\")\n",
    "elif (points >= 75) and (points <= 94):\n",
    "    orange = 'добре'\n",
    "    result= print(f\"Студент   {last_name}  набрав {points}   балів та отримав оцінку   {orange}\")\n",
    "elif (points >= 95) and (points <= 100):\n",
    "    orange = 'відмінно'\n",
    "    result= print(f\"Студент   {last_name}  набрав {points}   балів та отримав оцінку   {orange}\")\n",
    "else :\n",
    "    print('ERROR')\n"
   ]
  },
  {
   "cell_type": "code",
   "execution_count": 6,
   "metadata": {},
   "outputs": [
    {
     "name": "stdout",
     "output_type": "stream",
     "text": [
      "это Донецкая область\n"
     ]
    }
   ],
   "source": [
    "operation = (input('Введите номер'))\n",
    "\n",
    "result = None\n",
    "\n",
    "match operation:\n",
    "\n",
    "    case 'AA':\n",
    "        result = print('это Киев')\n",
    "    case 'AB':\n",
    "        result = print('это Винницкая область')\n",
    "    case 'AE':\n",
    "        result = print('это Днепропетровская область')\n",
    "    case 'AH':\n",
    "        result = print('это Донецкая область')\n",
    "    \n",
    "        "
   ]
  },
  {
   "cell_type": "code",
   "execution_count": 7,
   "metadata": {},
   "outputs": [
    {
     "name": "stdout",
     "output_type": "stream",
     "text": [
      "2 + 3 = 5\n"
     ]
    }
   ],
   "source": [
    "operand_1 = int(input('Введите число A'))\n",
    "operand_2 = int(input('Введите число B'))\n",
    "operation = input('Enter operation: | + | - | * |')\n",
    "\n",
    "result = None\n",
    "\n",
    "match operation:\n",
    "    case '+':\n",
    "        result = operand_1 + operand_2\n",
    "    case '-':\n",
    "        result = operand_1 - operand_2\n",
    "    case '/':\n",
    "        result = operation / operand_2\n",
    "    case '*':\n",
    "        result = operand_1 * operand_2\n",
    "    case _:\n",
    "        print('Operation not supported:', operation)\n",
    "\n",
    "if(result):\n",
    "    print(operand_1, operation, operand_2, '=', result)"
   ]
  },
  {
   "cell_type": "code",
   "execution_count": null,
   "metadata": {},
   "outputs": [],
   "source": [
    "year = input('enter year')\n",
    "print(type(year))\n",
    "\n",
    "year = int(year)\n",
    "print(type(year))\n",
    "\n",
    "if (year % 400 == 0) or (year % 4 == 0 and year % 100 != 0):\n",
    "    print('Высокосный ', year)\n",
    "else:\n",
    "    print('Обычный ', year)\n"
   ]
  },
  {
   "cell_type": "code",
   "execution_count": 13,
   "metadata": {},
   "outputs": [
    {
     "name": "stdout",
     "output_type": "stream",
     "text": [
      "число непарне\n",
      "число непарне\n"
     ]
    }
   ],
   "source": [
    "chyslo = 19\n",
    "\n",
    "if(chyslo % 2 == 0):\n",
    "   result = 'число парне'\n",
    "else:\n",
    "    result = 'число непарне' \n",
    "\n",
    "print(result)\n",
    " \n",
    "\n",
    "result = 'число парне' if (chyslo % 2 == 0) else 'число непарне'\n",
    "print(result)"
   ]
  },
  {
   "cell_type": "code",
   "execution_count": 4,
   "metadata": {},
   "outputs": [
    {
     "name": "stdout",
     "output_type": "stream",
     "text": [
      "Первая четверть\n"
     ]
    }
   ],
   "source": [
    "x = 120\n",
    "y = 1\n",
    "\n",
    "if(x == 0 and y == 0):\n",
    "    print('Центр координат')\n",
    "elif(x > 0 and y > 0):\n",
    "    print(\"Первая четверть\")\n",
    "elif(x < 0 and y > 0):\n",
    "    print(\"Вторая четверть\")\n",
    "elif(x < 0 and y < 0):\n",
    "    print(\"Третья четверть\")\n",
    "else:\n",
    "    print(\"Четвертая четверть\")"
   ]
  },
  {
   "cell_type": "code",
   "execution_count": null,
   "metadata": {},
   "outputs": [],
   "source": []
  }
 ],
 "metadata": {
  "interpreter": {
   "hash": "2c31e1d31e05c61b8bafb03ef6c4d1f650a8ebaef842291d4d6f1f79677a4a27"
  },
  "kernelspec": {
   "display_name": "Python 3.10.4 64-bit",
   "language": "python",
   "name": "python3"
  },
  "language_info": {
   "codemirror_mode": {
    "name": "ipython",
    "version": 3
   },
   "file_extension": ".py",
   "mimetype": "text/x-python",
   "name": "python",
   "nbconvert_exporter": "python",
   "pygments_lexer": "ipython3",
   "version": "3.10.4"
  },
  "orig_nbformat": 4
 },
 "nbformat": 4,
 "nbformat_minor": 2
}
