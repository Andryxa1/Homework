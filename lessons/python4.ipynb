{
 "cells": [
  {
   "cell_type": "code",
   "execution_count": 3,
   "metadata": {},
   "outputs": [
    {
     "name": "stdout",
     "output_type": "stream",
     "text": [
      "<class 'str'>\n",
      "<class 'str'>\n"
     ]
    }
   ],
   "source": [
    "string_1 = 'hello!'\n",
    "string_2 = \"hello\"\n",
    "print(type(string_1))\n",
    "print(type(string_2))\n",
    "string_1 = string_2"
   ]
  },
  {
   "cell_type": "code",
   "execution_count": 5,
   "metadata": {},
   "outputs": [
    {
     "name": "stdout",
     "output_type": "stream",
     "text": [
      "This is first line\n",
      "And second line\n",
      "Last third line\n",
      "Jingle bells, jingle bells\n",
      "Jingle all the way\n",
      "Oh, what fun it is to ride\n",
      "In a one horse open sleigh\n"
     ]
    }
   ],
   "source": [
    "text = \"\"\"This is first line\n",
    "And second line\n",
    "Last third line\"\"\"\n",
    "\n",
    "print(text)\n",
    " \n",
    "song = '''Jingle bells, jingle bells\n",
    "Jingle all the way\n",
    "Oh, what fun it is to ride\n",
    "In a one horse open sleigh'''\n",
    "\n",
    "print(song)"
   ]
  },
  {
   "cell_type": "code",
   "execution_count": 7,
   "metadata": {},
   "outputs": [
    {
     "name": "stdout",
     "output_type": "stream",
     "text": [
      "Textual data in Python is handled with str objects, or strings. Strings are immutable sequences of Unicode code points. String literals are written in a variety of ways.\n"
     ]
    }
   ],
   "source": [
    "one_line_text = \"Textual data in Python is handled with str objects, or strings. \"\\\n",
    "            \t\"Strings are immutable sequences of Unicode code points. \"\\\n",
    "            \t\"String literals are written in a variety of ways.\"\n",
    "print(one_line_text)"
   ]
  },
  {
   "cell_type": "code",
   "execution_count": 11,
   "metadata": {},
   "outputs": [
    {
     "name": "stdout",
     "output_type": "stream",
     "text": [
      "<class 'str'>\n",
      "15\n",
      "[12, 11, 44]\n",
      "<class 'str'>\n"
     ]
    }
   ],
   "source": [
    "# an integer to a string\n",
    "s = str(15)\n",
    "print(type(s))\n",
    "print(s)\n",
    " \n",
    " \n",
    "# a list to a string\n",
    "s = str([12, 11, 44])\n",
    "print(s)\n",
    "print(type(s))"
   ]
  },
  {
   "cell_type": "code",
   "execution_count": 15,
   "metadata": {},
   "outputs": [
    {
     "name": "stdout",
     "output_type": "stream",
     "text": [
      "e\n",
      "o\n",
      "H\n",
      "D\n"
     ]
    }
   ],
   "source": [
    "# Indexing\n",
    "S = 'hello world'\n",
    "print(S[1])\t# Prints e\n",
    "print(S[7])\t# Prints o\n",
    " \n",
    "# Negative Indexing\n",
    "S = 'ABCDEFGHI'\n",
    "print(S[-2])\t# Prints H\n",
    "print(S[-6])\t# Prints D"
   ]
  },
  {
   "cell_type": "code",
   "execution_count": 16,
   "metadata": {},
   "outputs": [
    {
     "name": "stdout",
     "output_type": "stream",
     "text": [
      "A\n",
      "B\n"
     ]
    }
   ],
   "source": [
    "pip = 'Andrew Boiko'\n",
    "first_name_start = pip[0]\n",
    "last_name_start = pip[-5]\n",
    " \n",
    "print(first_name_start)\n",
    "print(last_name_start)\n",
    " \n",
    "if first_name_start == last_name_start :\n",
    "\tprint('first name and last name strts with', first_name_start)"
   ]
  },
  {
   "cell_type": "code",
   "execution_count": 22,
   "metadata": {},
   "outputs": [
    {
     "data": {
      "text/plain": [
       "'kig'"
      ]
     },
     "execution_count": 22,
     "metadata": {},
     "output_type": "execute_result"
    }
   ],
   "source": [
    "s = 'abcdefghijk'\n",
    "s[3:5]\n",
    "s[:6]\n",
    "s[::-1]\n",
    "s[-3:]\n",
    "s[:-5]\n",
    "s[-1:-6:-2]"
   ]
  },
  {
   "cell_type": "code",
   "execution_count": 23,
   "metadata": {},
   "outputs": [
    {
     "ename": "TypeError",
     "evalue": "'str' object does not support item assignment",
     "output_type": "error",
     "traceback": [
      "\u001b[1;31m---------------------------------------------------------------------------\u001b[0m",
      "\u001b[1;31mTypeError\u001b[0m                                 Traceback (most recent call last)",
      "\u001b[1;32mc:\\MyInstall\\Python\\python4.ipynb Cell 8'\u001b[0m in \u001b[0;36m<cell line: 2>\u001b[1;34m()\u001b[0m\n\u001b[0;32m      <a href='vscode-notebook-cell:/c%3A/MyInstall/Python/python4.ipynb#ch0000009?line=0'>1</a>\u001b[0m S \u001b[39m=\u001b[39m \u001b[39m\"\u001b[39m\u001b[39mHello world\u001b[39m\u001b[39m\"\u001b[39m\n\u001b[1;32m----> <a href='vscode-notebook-cell:/c%3A/MyInstall/Python/python4.ipynb#ch0000009?line=1'>2</a>\u001b[0m S[\u001b[39m0\u001b[39m] \u001b[39m=\u001b[39m \u001b[39m'\u001b[39m\u001b[39mH\u001b[39m\u001b[39m'\u001b[39m\n",
      "\u001b[1;31mTypeError\u001b[0m: 'str' object does not support item assignment"
     ]
    }
   ],
   "source": [
    "S = \"Hello world\"\n",
    "S[0] = 'H'"
   ]
  },
  {
   "cell_type": "code",
   "execution_count": 24,
   "metadata": {},
   "outputs": [
    {
     "name": "stdout",
     "output_type": "stream",
     "text": [
      "Hello, World!\n"
     ]
    }
   ],
   "source": [
    "S = 'Hello,' + ' World!'\n",
    "print(S)"
   ]
  },
  {
   "cell_type": "code",
   "execution_count": 26,
   "metadata": {},
   "outputs": [
    {
     "name": "stdout",
     "output_type": "stream",
     "text": [
      "-------------------------\n",
      "abcabcabcabcabcabcabcabcabc\n"
     ]
    }
   ],
   "source": [
    "delimiter = '-' * 25\n",
    "print(delimiter)\n",
    " \n",
    "s = 'abc' * 9\n",
    "print(s)"
   ]
  },
  {
   "cell_type": "code",
   "execution_count": 27,
   "metadata": {},
   "outputs": [
    {
     "name": "stdout",
     "output_type": "stream",
     "text": [
      "Jingle bells, jingle bells\n",
      "Jingle all the way\n",
      "Oh, what fun it is to ride\n",
      "In a one horse open sleigh\n"
     ]
    }
   ],
   "source": [
    "jingle_bells = \"Jingle bells, jingle bells\\nJingle all the way\\nOh, what fun it is to ride\\nIn a one horse open sleigh\"\n",
    "\n",
    "print(jingle_bells)\n",
    "\n"
   ]
  },
  {
   "cell_type": "code",
   "execution_count": 2,
   "metadata": {},
   "outputs": [
    {
     "name": "stdout",
     "output_type": "stream",
     "text": [
      "8000\n",
      "17000\n",
      "23000\n",
      "30000\n"
     ]
    }
   ],
   "source": [
    "goods = [\n",
    "    ['phone', 'samsung', 8000],\n",
    "    ['tablet', 'Xiaomi', 17000],\n",
    "    ['phone', 'apple', 23000],\n",
    "    ['tablet', 'acer', 30000],\n",
    "]\n",
    "\n",
    "max_price = int(input('Enter max price'))\n",
    "\n",
    "for tovar in goods:\n",
    "    price_for_good = tovar[2]\n",
    "    if price_for_good <= max_price:\n",
    "        print(tovar)\n"
   ]
  },
  {
   "cell_type": "code",
   "execution_count": 3,
   "metadata": {},
   "outputs": [
    {
     "name": "stdout",
     "output_type": "stream",
     "text": [
      "12\n"
     ]
    }
   ],
   "source": [
    "S = 'Hello World!'\n",
    "print(len(S))"
   ]
  },
  {
   "cell_type": "code",
   "execution_count": 1,
   "metadata": {},
   "outputs": [
    {
     "name": "stdout",
     "output_type": "stream",
     "text": [
      "['I', 'am', 'learning', 'strings', 'in', 'Python', 'Some', 'new', 'methods', 'got', 'now.']\n",
      "<class 'list'>\n",
      "11\n"
     ]
    }
   ],
   "source": [
    "s = \"I am learning strings in Python Some new methods got now.\"\n",
    "words = s.split()\n",
    "print(words)\n",
    "print(type(words))\n",
    "print(len(words))"
   ]
  },
  {
   "cell_type": "code",
   "execution_count": 4,
   "metadata": {},
   "outputs": [
    {
     "name": "stdout",
     "output_type": "stream",
     "text": [
      "host:  127.0.0.1\n",
      "user:  root\n"
     ]
    }
   ],
   "source": [
    "db_desc = 'mysql;127.0.0.1;root;asdwrsc'\n",
    "connection_params = db_desc.split(';')\n",
    "\n",
    "print('host: ', connection_params[1])\n",
    "print('user: ', connection_params[2])"
   ]
  },
  {
   "cell_type": "code",
   "execution_count": 5,
   "metadata": {},
   "outputs": [
    {
     "name": "stdout",
     "output_type": "stream",
     "text": [
      "mysql|127.0.0.1|root|userpassw\n"
     ]
    }
   ],
   "source": [
    "connection_params = ['mysql', '127.0.0.1', 'root', 'userpassw']\n",
    "connection_string = '|'.join(connection_params)\n",
    "print(connection_string)"
   ]
  },
  {
   "cell_type": "code",
   "execution_count": null,
   "metadata": {},
   "outputs": [],
   "source": [
    "adv_words = ['купити', 'продати', 'реклама']\n",
    "user_text = input()\n",
    "not_found = -1\n",
    "is_spam = False\n",
    " \n",
    "for stop_word in adv_words :\n",
    "    if user_text.find(stop_word) != not_found:\n",
    "        is_spam = True\n",
    "        break\n",
    "  \n",
    "message = 'Spam' if (is_spam) else 'Not Spam'   \n",
    "print(message)"
   ]
  },
  {
   "cell_type": "code",
   "execution_count": null,
   "metadata": {},
   "outputs": [],
   "source": [
    "map = {ord('ю'): 'iu', ord('в'): 'v'}\n",
    "\n",
    "last_name = 'Ковлюк Ковлюк Ковлюк '\n",
    "\n",
    "last_name_eng = last_name.translate(map)\n",
    "print(last_name_eng)"
   ]
  },
  {
   "cell_type": "code",
   "execution_count": 6,
   "metadata": {},
   "outputs": [
    {
     "name": "stdout",
     "output_type": "stream",
     "text": [
      "pi:  3.141564356\n"
     ]
    }
   ],
   "source": [
    "print('pi: {:12.10}'.format(3.14156435635))"
   ]
  },
  {
   "cell_type": "code",
   "execution_count": 12,
   "metadata": {},
   "outputs": [
    {
     "name": "stdout",
     "output_type": "stream",
     "text": [
      "-------------------------------------------------------------------------------------------\n",
      "|  №  |Товар                                   |   Час    |       кількіть|       вартість|\n",
      "-------------------------------------------------------------------------------------------\n",
      "|  1  |Апельсин                                |  12:00   |              6|         150.25|\n",
      "|  2  |Лимон                                   |  13:43   |              8|           90.8|\n",
      "|  3  |Картопля                                |  13:43   |            123|         445.22|\n",
      "-------------------------------------------------------------------------------------------\n",
      "| Продано всього__________________________________________________________|_________686.27|\n",
      "-------------------------------------------------------------------------------------------\n"
     ]
    }
   ],
   "source": [
    "delimiter = '-' * 91\n",
    "goods = [\n",
    "    ['Апельсин', 6, 150.25, '12:00'], \n",
    "    ['Лимон', 8, 90.80, '13:43'], \n",
    "    ['Картопля', 123, 445.22, '13:43']\n",
    "    ]\n",
    "total_sum = 0\n",
    "number = 0\n",
    "print(delimiter)\n",
    "print(\"|{:^5}|{:<40}|{:^10}|{:>15}|{:>15}|\".format('№', 'Товар', 'Час', 'кількіть', 'вартість'))\n",
    "print(delimiter)\n",
    " \n",
    "for good in goods :\n",
    "    name = good[0]\n",
    "    count = good[1]\n",
    "    price = good[2]\n",
    "    time = good[3]\n",
    "    number += 1;\n",
    "    total_sum += price\n",
    "    print(\"|{:^5}|{:<40}|{:^10}|{:>15}|{:>15}|\".format(number, name, time, count, price))\n",
    " \n",
    "print(delimiter)\n",
    "print(\"|{:_<73}|{:_>15}|\".format(' Продано всього', total_sum))\n",
    "print(delimiter)"
   ]
  },
  {
   "cell_type": "code",
   "execution_count": null,
   "metadata": {},
   "outputs": [],
   "source": []
  }
 ],
 "metadata": {
  "kernelspec": {
   "display_name": "Python 3.10.4 64-bit",
   "language": "python",
   "name": "python3"
  },
  "language_info": {
   "codemirror_mode": {
    "name": "ipython",
    "version": 3
   },
   "file_extension": ".py",
   "mimetype": "text/x-python",
   "name": "python",
   "nbconvert_exporter": "python",
   "pygments_lexer": "ipython3",
   "version": "3.10.4"
  },
  "orig_nbformat": 4,
  "vscode": {
   "interpreter": {
    "hash": "2c31e1d31e05c61b8bafb03ef6c4d1f650a8ebaef842291d4d6f1f79677a4a27"
   }
  }
 },
 "nbformat": 4,
 "nbformat_minor": 2
}
