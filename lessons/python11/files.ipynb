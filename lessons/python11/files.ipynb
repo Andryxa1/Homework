{
 "cells": [
  {
   "cell_type": "code",
   "execution_count": null,
   "metadata": {},
   "outputs": [],
   "source": [
    "#fh = open('test.txt')\n",
    "# ....\n",
    "fh = open('test.txt', 'w')\n",
    "fh = open('test.txt', 'a')\n",
    "fh.close()\n"
   ]
  },
  {
   "cell_type": "code",
   "execution_count": null,
   "metadata": {},
   "outputs": [],
   "source": [
    "fh = open('test.txt', 'w')\n",
    "fh.write('Hello ')\n",
    "fh.write('Andrew ')\n",
    "fh.write('Boiko. ')\n",
    "fh.close()"
   ]
  },
  {
   "cell_type": "code",
   "execution_count": null,
   "metadata": {},
   "outputs": [],
   "source": [
    "fh = open('test.txt', 'a')\n",
    "write_lenth = fh.write('Good day. ')\n",
    "print(write_lenth)\n",
    "fh.close()"
   ]
  },
  {
   "cell_type": "code",
   "execution_count": null,
   "metadata": {},
   "outputs": [],
   "source": [
    "fh = open('test.txt')\n",
    "content = fh.read()\n",
    "fh.close()\n",
    "print(content)"
   ]
  },
  {
   "cell_type": "code",
   "execution_count": null,
   "metadata": {},
   "outputs": [],
   "source": [
    "fh = open('test.txt')\n",
    "content = fh.read(6)\n",
    "print(content)\n",
    "content = fh.read(7)\n",
    "print(content)\n",
    "fh.close()"
   ]
  },
  {
   "cell_type": "code",
   "execution_count": null,
   "metadata": {},
   "outputs": [],
   "source": [
    "fh = open('test.txt', 'w')\n",
    "fh.write('Hello, Andrew!')\n",
    "fh.close()\n",
    "\n",
    "fh = open('test.txt', 'r')\n",
    "while True:\n",
    "    symbol = fh.read(1)\n",
    "    if not symbol:\n",
    "        break\n",
    "    print(symbol, end=\" \")\n",
    "\n",
    "fh.close()"
   ]
  },
  {
   "cell_type": "code",
   "execution_count": null,
   "metadata": {},
   "outputs": [],
   "source": [
    "fh = open('test.txt', 'w')\n",
    "fh.write('first line\\nsecond line\\nthird line')\n",
    "fh.close()\n",
    "\n",
    "fh = open('test.txt', 'r')\n",
    "while True:\n",
    "    line = fh.readline()\n",
    "    if not line:\n",
    "        break\n",
    "    print(line)\n",
    "\n",
    "fh.close()"
   ]
  },
  {
   "cell_type": "code",
   "execution_count": null,
   "metadata": {},
   "outputs": [],
   "source": [
    "fh = open('test.txt', 'r')\n",
    "content = fh.readlines()\n",
    "\n",
    "for current_line in content:\n",
    "    print(current_line.rstrip('\\n'))\n",
    "\n",
    "fh.close()\n",
    "\n",
    "print(type(content))\n",
    "print(content)"
   ]
  },
  {
   "cell_type": "code",
   "execution_count": null,
   "metadata": {},
   "outputs": [],
   "source": [
    "fh = open('test.txt', 'w')\n",
    "line_list = ['Andrew', 'Oleh', 'Ihor']\n",
    "fh.write('\\n'.join(line_list) + '\\n')\n",
    "fh.close()"
   ]
  },
  {
   "cell_type": "code",
   "execution_count": null,
   "metadata": {},
   "outputs": [],
   "source": [
    "file_obj = open('test.txt', 'w+')\n",
    "file_obj.write('dmytro@ggg.ua;dimaqqq1')\n",
    "\n",
    "file_obj.seek(14)\n",
    "pasw = file_obj.read(8)\n",
    "print(pasw)\n",
    "\n",
    "file_obj.close()"
   ]
  },
  {
   "cell_type": "code",
   "execution_count": null,
   "metadata": {},
   "outputs": [],
   "source": [
    "fh = open('test.txt', 'w+')\n",
    "fh.write('hello!')\n",
    "\n",
    "position = fh.tell()\n",
    "print(position) # 6\n",
    "\n",
    "fh.seek(1)\n",
    "position = fh.tell()\n",
    "print(position) # 1\n",
    "\n",
    "print(fh.read(2))\n",
    "position = fh.tell()\n",
    "print(position) # 3\n",
    "\n",
    "fh.close()"
   ]
  },
  {
   "cell_type": "code",
   "execution_count": null,
   "metadata": {},
   "outputs": [],
   "source": [
    "# ZeroDivisionError: division by zero\n",
    "# 10 * (1/0)  \n",
    "\n",
    "# NameError: name 'spam' is not defined\n",
    "# 4 + spam*3  \n",
    "\n",
    "#TypeError: can only concatenate str (not \"int\") to str\n",
    "# '2' + 2"
   ]
  },
  {
   "cell_type": "code",
   "execution_count": null,
   "metadata": {},
   "outputs": [],
   "source": [
    "file_name = 'test.txt'    \n",
    "try:\n",
    "    f = open(file_name)\n",
    "except OSError:\n",
    "    print('cannot open', file_name)\n",
    "else:\n",
    "    print(file_name, 'has', len(f.readlines()), 'lines')\n",
    "    f.close()"
   ]
  },
  {
   "cell_type": "code",
   "execution_count": null,
   "metadata": {},
   "outputs": [],
   "source": [
    "fh = open('test.txt', 'w+')\n",
    "\n",
    "try:\n",
    "    fh.write('hello!')\n",
    "\n",
    "    position = fh.tell()\n",
    "    print(position) # 6\n",
    "\n",
    "    fh.seek(1)\n",
    "    position = fh.tell()\n",
    "    print(position) # 1\n",
    "\n",
    "    fh.read(2)\n",
    "    position = fh.tell()\n",
    "    print(position) # 3\n",
    "\n",
    "except:\n",
    "    print('log...')    \n",
    "\n",
    "else:\n",
    "    print('no error')\n",
    "\n",
    "finally:\n",
    "    print('do finally begin')\n",
    "    fh.close()\n",
    "    print('do finally end')"
   ]
  },
  {
   "cell_type": "code",
   "execution_count": null,
   "metadata": {},
   "outputs": [],
   "source": [
    "# Predefined Clean-up Actions\n",
    "\n",
    "with open('text.txt', 'w+') as f:\n",
    "    f.write('hello!')\n",
    "\n",
    "    position = f.tell()\n",
    "    print(position) # 6\n",
    "\n",
    "    f.seek(1)\n",
    "    position = f.tell()\n",
    "    print(position) # 1\n",
    "\n",
    "    f.read(2)\n",
    "    position = f.tell()\n",
    "    print(position) # 3\n",
    "\n",
    "print('ok')"
   ]
  },
  {
   "cell_type": "code",
   "execution_count": null,
   "metadata": {},
   "outputs": [],
   "source": []
  }
 ],
 "metadata": {
  "kernelspec": {
   "display_name": "Python 3.10.4 64-bit",
   "language": "python",
   "name": "python3"
  },
  "language_info": {
   "codemirror_mode": {
    "name": "ipython",
    "version": 3
   },
   "file_extension": ".py",
   "mimetype": "text/x-python",
   "name": "python",
   "nbconvert_exporter": "python",
   "pygments_lexer": "ipython3",
   "version": "3.10.4"
  },
  "orig_nbformat": 4,
  "vscode": {
   "interpreter": {
    "hash": "2c31e1d31e05c61b8bafb03ef6c4d1f650a8ebaef842291d4d6f1f79677a4a27"
   }
  }
 },
 "nbformat": 4,
 "nbformat_minor": 2
}
