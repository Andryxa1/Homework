{
 "cells": [
  {
   "cell_type": "code",
   "execution_count": null,
   "metadata": {},
   "outputs": [],
   "source": [
    "monthes = {1:   'січень', \n",
    "           2:   'лютий', \n",
    "           3:   'березень',\n",
    "           4:   'квітень',\n",
    "           5:   'травень',\n",
    "           6:   'червень',\n",
    "           7:   'липень',\n",
    "           8:   'серпень',\n",
    "           9:   'вересень',\n",
    "           10:  'жовтень',\n",
    "           11:  'листтопад',\n",
    "           12:  'грудень'}\n",
    "print(monthes)"
   ]
  },
  {
   "cell_type": "code",
   "execution_count": null,
   "metadata": {},
   "outputs": [],
   "source": [
    "currencies = {\n",
    "    'USD': [35.2, 35.5, 700], \n",
    "    'EUR': [37.7, 37.9, 1700],\n",
    "}\n",
    "print(currencies)"
   ]
  },
  {
   "cell_type": "code",
   "execution_count": null,
   "metadata": {},
   "outputs": [],
   "source": [
    "currencies = {\n",
    "    'USD': [35.2, 35.5, 700], \n",
    "    'EUR': [37.7, 37.9, 1700],\n",
    "}\n",
    "\n",
    "currencies['GBP'] = [40, 41, 0]\n",
    "\n",
    "new_currency_code = 'PZT'\n",
    "new_currency_rate =  [7.1, 7.2, 10000] \n",
    "\n",
    "currencies[new_currency_code] = new_currency_rate\n",
    "print(currencies)"
   ]
  },
  {
   "cell_type": "code",
   "execution_count": null,
   "metadata": {},
   "outputs": [],
   "source": [
    "currencies = {\n",
    "    'USD': [35.2, 35.5, 700], \n",
    "    'EUR': [37.7, 37.9, 1700],\n",
    "}\n",
    "\n",
    "user_currency = input('Enter currency: ')\n",
    "\n",
    "currency = currencies.get(user_currency, False)\n",
    "\n",
    "if(not currency):\n",
    "    print('Такої валюти немає')\n",
    "else:\n",
    "    print(currency[2])"
   ]
  },
  {
   "cell_type": "code",
   "execution_count": null,
   "metadata": {},
   "outputs": [],
   "source": [
    "pupils = {\n",
    "    'Kovalyuk'  : [12, 10, 15], \n",
    "    'Ivanov'    : [11, 12, 15, 25],\n",
    "}\n",
    "\n",
    "print(pupils)\n",
    "\n",
    "pupil = pupils.pop('Kovalyuk')\n",
    "print('Rating =', pupil[0])\n",
    "\n",
    "print(pupils)"
   ]
  },
  {
   "cell_type": "code",
   "execution_count": null,
   "metadata": {},
   "outputs": [],
   "source": [
    "pupils_P10 = {\n",
    "    'Kovalyuk'  : [12, 10, 15], \n",
    "    'Ivanov'    : [11, 12, 15],\n",
    "}\n",
    "\n",
    "new_pupils = {\n",
    "        'Petrova'       : [12, 10, 15], \n",
    "        'Ivanova'       : [11, 12, 15],\n",
    "        'Sidorov'       : [12, 10, 15], \n",
    "        'Ivanovsky'     : [11, 12, 15],\n",
    "}\n",
    "\n",
    "pupils_P10.update(new_pupils)\n",
    "print(pupils_P10)\n",
    "\n",
    "new_pupils.clear()\n",
    "print(new_pupils)"
   ]
  },
  {
   "cell_type": "code",
   "execution_count": null,
   "metadata": {},
   "outputs": [],
   "source": [
    "pupils = {\n",
    "    'Kovalyuk'  : [12, 10, 15], \n",
    "    'Ivanov'    : [11, 12, 15],\n",
    "}\n",
    "\n",
    "python_group = pupils.copy()\n",
    "pupils['Petrov'] = [10, 10, 10]\n",
    "\n",
    "\n",
    "print(pupils)\n",
    "print(id(pupils))\n",
    "\n",
    "print(python_group)\n",
    "print(id(python_group))"
   ]
  },
  {
   "cell_type": "code",
   "execution_count": null,
   "metadata": {},
   "outputs": [],
   "source": [
    "monthes = {1:  'січень',\n",
    "           2:  'лютий',\n",
    "           3:  'березень',\n",
    "           4:  'квітень',\n",
    "           5:  'травень',\n",
    "           6:  'червень',\n",
    "           7:  'липень',\n",
    "           8:  'серпень',\n",
    "           9:  'вересень',\n",
    "           10: 'жовтень',\n",
    "           11: 'листтопад',\n",
    "           12: 'грудень'}\n",
    "\n",
    "report_date = '31.06.2022';\n",
    "\n",
    "month = int(report_date[3:5])\n",
    "print(month)\n",
    "\n",
    "month_name = monthes[month] \n",
    "print('Звіт за', month_name)"
   ]
  },
  {
   "cell_type": "code",
   "execution_count": null,
   "metadata": {},
   "outputs": [],
   "source": [
    "currencies = {'USD':  27.3, 'EUR': 33.42, 'GBP': 37.21}\n",
    "currencies['PLN'] = 6.91\n",
    "currencies['USD'] = 35.42\n",
    "currencies['EUR'] = 33.30\n",
    "\n",
    "money_curenncy = 'USD' # 'CNY' #Китайський Юань\n",
    "money_amount = 100;\n",
    "\n",
    "rate = currencies.get(money_curenncy, -1) \n",
    "\n",
    "if rate == -1 :\n",
    "    print('Операції з {} не проводяться'.format(money_curenncy))\n",
    "else:\n",
    "    money_UAH = rate * money_amount\n",
    "    print('Поточний курс {}. Ви отримаєте {} грн.'.format(rate, money_UAH))"
   ]
  },
  {
   "cell_type": "code",
   "execution_count": null,
   "metadata": {},
   "outputs": [],
   "source": [
    "currencies = {'USD':  27.3, 'EUR': 33.42, 'GBP': 37.21}\n",
    "currencies['PLN'] = 6.91\n",
    "\n",
    "for currency in currencies:\n",
    "    print(currency)"
   ]
  },
  {
   "cell_type": "code",
   "execution_count": null,
   "metadata": {},
   "outputs": [],
   "source": [
    "currencies = {'USD':  27.3, 'EUR': 33.42, 'GBP': 37.21}\n",
    "currencies['PLN'] = 6.91\n",
    "\n",
    "for currency in currencies.values():\n",
    "    print(currency)"
   ]
  },
  {
   "cell_type": "code",
   "execution_count": null,
   "metadata": {},
   "outputs": [],
   "source": [
    "currencies = {'USD':  27.3, 'EUR': 33.42, 'GBP': 37.21}\n",
    "currencies['PLN'] = 6.91\n",
    "\n",
    "for code, money in currencies.items():\n",
    "    print(code, money)"
   ]
  }
 ],
 "metadata": {
  "kernelspec": {
   "display_name": "Python 3.10.4 64-bit",
   "language": "python",
   "name": "python3"
  },
  "language_info": {
   "name": "python",
   "version": "3.10.4"
  },
  "orig_nbformat": 4,
  "vscode": {
   "interpreter": {
    "hash": "2c31e1d31e05c61b8bafb03ef6c4d1f650a8ebaef842291d4d6f1f79677a4a27"
   }
  }
 },
 "nbformat": 4,
 "nbformat_minor": 2
}
