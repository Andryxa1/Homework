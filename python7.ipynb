{
 "cells": [
  {
   "cell_type": "code",
   "execution_count": 1,
   "metadata": {},
   "outputs": [
    {
     "name": "stdout",
     "output_type": "stream",
     "text": [
      "This password is too weak\n"
     ]
    }
   ],
   "source": [
    "password = 'qwerty123'\n",
    "\n",
    "if 'qwerty' in password or '123' in password:\n",
    "    print('This password is too weak')"
   ]
  },
  {
   "cell_type": "code",
   "execution_count": null,
   "metadata": {},
   "outputs": [],
   "source": [
    "password = \"1223\"\n",
    "\n",
    "if len(password) < 8:\n",
    "    print(\"Your password is too short\")"
   ]
  },
  {
   "cell_type": "code",
   "execution_count": 4,
   "metadata": {},
   "outputs": [
    {
     "name": "stdout",
     "output_type": "stream",
     "text": [
      "Найбільш віддалене від Києва Одеса відстань - 430 км\n"
     ]
    }
   ],
   "source": [
    "cities = {\n",
    "    'Київ'    : 0, \n",
    "    'Вінниця' : 240, \n",
    "    'Харків'  : 470, \n",
    "    'Ужгород' : 808, \n",
    "    'Львів'   : 540, \n",
    "    'Житомир' : 120, \n",
    "    'Одеса'   : 430\n",
    "    }\n",
    "city_name_max =0\n",
    "city_distance_max = 0\n",
    "distance_max = 0\n",
    "\n",
    "for city_name, city_dist in cities.items():\n",
    "    if city_dist > city_distance_max:\n",
    "        city_name_max = city_name\n",
    "    city_distance_max = city_dist\n",
    "result_message = 'Найбільш віддалене від Києва {} відстань - {} км'.format(city_name_max, city_distance_max)\n",
    "print(result_message)"
   ]
  },
  {
   "cell_type": "code",
   "execution_count": 5,
   "metadata": {},
   "outputs": [
    {
     "name": "stdout",
     "output_type": "stream",
     "text": [
      "Обреіть спосіб доставки: 1 - Нова пошта, 2 - Укрпошта.\n"
     ]
    }
   ],
   "source": [
    "post_ukr = {'Київ', 'Фастів', 'Ірпінь', 'Боярка'} \n",
    "post_new = {'Київ', 'Фастів', 'Кагарлик', 'Узин', 'Ірпінь', 'Гатне', 'Боярка', 'Гостомель'}\n",
    "\n",
    "user_city = input() \n",
    "is_post_ukr = user_city in post_ukr; \n",
    "is_post_new = user_city in post_new;\n",
    "\n",
    "if is_post_ukr and is_post_new :\n",
    "    print('Обреіть спосіб доставки: 1 - Нова пошта, 2 - Укрпошта.')\n",
    "elif user_city in post_ukr: \n",
    "    print('Можлива доставка Укрпоштою. Оберіть номер відділення')\n",
    "elif user_city in post_new:\n",
    "    print('Можлива доставка Новою поштою. Оберіть номер відділення')\n",
    "else:\n",
    "    print('На жаль, доставки в ваше місто немає. Скористайтесь самовивозом.')"
   ]
  },
  {
   "cell_type": "code",
   "execution_count": 9,
   "metadata": {},
   "outputs": [
    {
     "name": "stdout",
     "output_type": "stream",
     "text": [
      "Берізка - 8\n",
      "Бриз - 8\n",
      "Морячка - 4\n"
     ]
    }
   ],
   "source": [
    "clients = [\n",
    "    ['Берізка', 'Іванов', 3],\n",
    "    ['Берізка', 'Петрова', 5], \n",
    "    ['Бриз', 'Іванова', 5], \n",
    "    ['Морячка', 'Іванова', 4],\n",
    "    ['Бриз', 'Andrew', 3],\n",
    "]\n",
    "\n",
    "hotels = dict()\n",
    "\n",
    "for client in clients:\n",
    "    # ['Берізка', 'Іванов', 3]\n",
    "    hotel_name = client[0]\n",
    "    persons = client[2] \n",
    "\n",
    "    if hotel_name in hotels:\n",
    "        current_visitors = hotels.get(hotel_name)\n",
    "        current_visitors += persons\n",
    "        hotels[hotel_name] = current_visitors\n",
    "    else:\n",
    "        hotels[hotel_name] = persons\n",
    "\n",
    "for hotel_name, hotel_visitors in hotels.items():\n",
    "    print(hotel_name, '-', hotel_visitors)"
   ]
  },
  {
   "cell_type": "code",
   "execution_count": null,
   "metadata": {},
   "outputs": [],
   "source": []
  }
 ],
 "metadata": {
  "kernelspec": {
   "display_name": "Python 3.10.4 64-bit",
   "language": "python",
   "name": "python3"
  },
  "language_info": {
   "codemirror_mode": {
    "name": "ipython",
    "version": 3
   },
   "file_extension": ".py",
   "mimetype": "text/x-python",
   "name": "python",
   "nbconvert_exporter": "python",
   "pygments_lexer": "ipython3",
   "version": "3.10.4"
  },
  "orig_nbformat": 4,
  "vscode": {
   "interpreter": {
    "hash": "2c31e1d31e05c61b8bafb03ef6c4d1f650a8ebaef842291d4d6f1f79677a4a27"
   }
  }
 },
 "nbformat": 4,
 "nbformat_minor": 2
}
