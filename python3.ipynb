{
 "cells": [
  {
   "cell_type": "code",
   "execution_count": 3,
   "metadata": {},
   "outputs": [
    {
     "name": "stdout",
     "output_type": "stream",
     "text": [
      "['a', 'b', 'c']\n",
      "[1, 2, 3]\n",
      "['Andrew', 'Boiko', 15, True]\n"
     ]
    }
   ],
   "source": [
    "chars = list('abc')\n",
    "print(chars)\n",
    "\n",
    "user_input = (1, 2, 3)\n",
    "numbers = list(user_input)\n",
    "print(numbers)\n",
    "\n",
    "pupil_info = list(('Andrew', 'Boiko', 15, True))\n",
    "print(pupil_info)"
   ]
  },
  {
   "cell_type": "code",
   "execution_count": null,
   "metadata": {},
   "outputs": [],
   "source": []
  }
 ],
 "metadata": {
  "kernelspec": {
   "display_name": "Python 3.10.4 64-bit",
   "language": "python",
   "name": "python3"
  },
  "language_info": {
   "codemirror_mode": {
    "name": "ipython",
    "version": 3
   },
   "file_extension": ".py",
   "mimetype": "text/x-python",
   "name": "python",
   "nbconvert_exporter": "python",
   "pygments_lexer": "ipython3",
   "version": "3.10.4"
  },
  "orig_nbformat": 4,
  "vscode": {
   "interpreter": {
    "hash": "2c31e1d31e05c61b8bafb03ef6c4d1f650a8ebaef842291d4d6f1f79677a4a27"
   }
  }
 },
 "nbformat": 4,
 "nbformat_minor": 2
}
