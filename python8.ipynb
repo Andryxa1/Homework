{
 "cells": [
  {
   "cell_type": "code",
   "execution_count": null,
   "metadata": {},
   "outputs": [],
   "source": [
    "def say_hello(name):\n",
    "    print('Привет,', name)\n",
    "pupil = 'Stanislav'\n",
    "say_hello(pupil)\n",
    "\n",
    "\n",
    "say_hello('Andrew')"
   ]
  },
  {
   "cell_type": "code",
   "execution_count": null,
   "metadata": {},
   "outputs": [],
   "source": [
    "def print_max(a, b):\n",
    "    if a > b:\n",
    "        print(a, 'максимально')\n",
    "    elif a == b:\n",
    "        print(a, 'равно', b)\n",
    "    else:\n",
    "        print(b, 'максимально')\n",
    "\n",
    "print_max(3, 4)  \n",
    "\n",
    "x = 5\n",
    "y = 7\n",
    "print_max(x, y)  "
   ]
  },
  {
   "cell_type": "code",
   "execution_count": null,
   "metadata": {},
   "outputs": [],
   "source": [
    "def summa(a, b):\n",
    "    return a + b\n",
    "\n",
    "def subtraction(a, b):\n",
    "    return a - b\n",
    "\n",
    "def mult(a, b):\n",
    "    return a * b\n",
    "\n",
    "def div(a, b):\n",
    "    if b == 0:\n",
    "        print('error')\n",
    "    else:\n",
    "        return a / b\n",
    "\n",
    "def calculate(operand_1, operand_2, operation):\n",
    "    if operation == '+':\n",
    "        result = summa(operand_1, operand_2)\n",
    "    elif operation == '-':\n",
    "        result = subtraction(operand_1, operand_2)\n",
    "    elif operation == '*':\n",
    "        result = mult(operand_1, operand_2)\n",
    "    elif operation == '/':\n",
    "        result = div(operand_1, operand_2)\n",
    "    return result\n",
    "\n",
    "def check_operation(operation):\n",
    "    return operation in ['+', '-', '*', '/']\n",
    "    \n",
    "\n",
    "operand_1 = int(input('Введите число A'))\n",
    "operand_2 = int(input('Введите число B'))\n",
    "user_operation = input('Enter operation: | + | - | * |')\n",
    "\n",
    "if check_operation(user_operation):\n",
    "    result = calculate(operand_1, operand_2, user_operation)\n",
    "    print(operand_1, user_operation, operand_2, '=', result)\n",
    "else:\n",
    "    print('operation is not supported:', user_operation)\n"
   ]
  },
  {
   "cell_type": "code",
   "execution_count": null,
   "metadata": {},
   "outputs": [],
   "source": [
    "x = 50\n",
    "\n",
    "def func():\n",
    "    x = 2\n",
    "    print('Замена локального x на', x) \n",
    "\n",
    "print('x в головній програмі', x)\n",
    "func()\n",
    "print('x в головній програмі', x)"
   ]
  },
  {
   "cell_type": "code",
   "execution_count": null,
   "metadata": {},
   "outputs": [],
   "source": [
    "x = 50\n",
    "\n",
    "def func():\n",
    "    global x\n",
    "    print('x равно', x) \n",
    "    x = 2\n",
    "    print('Заменяем глобальное значение x на', x)\n",
    "\n",
    "func()\n",
    "print('Значение x составляет', x)"
   ]
  },
  {
   "cell_type": "code",
   "execution_count": null,
   "metadata": {},
   "outputs": [],
   "source": [
    "def print_AB(a, b, c):\n",
    "    print(a)\n",
    "    print(b)\n",
    "    print(c)\n",
    "#print(3, 2)\n",
    "pupils = ['Andrew', 'Vova', 'Sergey']\n",
    "\n",
    "print_AB(*pupils)"
   ]
  },
  {
   "cell_type": "code",
   "execution_count": null,
   "metadata": {},
   "outputs": [],
   "source": [
    "def print_ABC(a, b=10, c=20):\n",
    "    print(a)\n",
    "    print(b)\n",
    "    print(c)\n",
    "\n",
    "print_ABC(5) \n",
    "print_ABC(5, 8)\n",
    "print_ABC(100, 150, 200)"
   ]
  },
  {
   "cell_type": "code",
   "execution_count": null,
   "metadata": {},
   "outputs": [],
   "source": [
    "def summa(*numbers):\n",
    "    result = 0\n",
    "    for n in numbers:\n",
    "       # print(n, end=' ')\n",
    "        result += n\n",
    "    return result\n",
    "res = summa (2, 3)\n",
    "print(res)"
   ]
  },
  {
   "cell_type": "code",
   "execution_count": null,
   "metadata": {},
   "outputs": [],
   "source": [
    "def summa(a, *numbers):\n",
    "    result = 0\n",
    "    for n in numbers:\n",
    "        #print(n, end=' ')\n",
    "        result += n\n",
    "    return result    \n",
    "\n",
    "res = summa(1, 2, 3, 4)\n",
    "print(res)"
   ]
  },
  {
   "cell_type": "code",
   "execution_count": null,
   "metadata": {},
   "outputs": [],
   "source": [
    "def login(user, passw, ip):\n",
    "    print('user {} connect with password {} to server{}'.format(user, passw, ip))\n",
    "\n",
    "login('Dmytro', '1234', '127.0.0.1')\n",
    "\n",
    "user_info = {\n",
    "    'user': 'DmytroK',\n",
    "    'passw': '1234$',\n",
    "    'ip': '88.185.12.33'\n",
    "}\n",
    "login(user = 'DDD', ip = '121212121212', passw = 'test')\n",
    "login(**user_info)"
   ]
  },
  {
   "cell_type": "code",
   "execution_count": null,
   "metadata": {},
   "outputs": [],
   "source": [
    "def login(user, passw, ip, **login_info):\n",
    "    print('User {} connect with password {} to server {}'.format(user, passw, ip))\n",
    "    \n",
    "    print('additional params')\n",
    "    for key, val in login_info.items():\n",
    "        print('param name: {}, param value: {}'.format(key, val))\n",
    "\n",
    "login('dmytro', '1234', '127.0.0.1')  \n",
    "login('dmytro', '1234', '127.0.0.1', user_type='Admin', user_role='editor')"
   ]
  },
  {
   "cell_type": "code",
   "execution_count": null,
   "metadata": {},
   "outputs": [],
   "source": [
    "x = 'Good morning'\n",
    "\n",
    "def f():\n",
    "    x = 'Hello'\n",
    "    print('inside f')\n",
    "\n",
    "    def b():\n",
    "       # x = 'Good Evening'\n",
    "        print('function b start')\n",
    "        print(x)\n",
    "        print('function b end')\n",
    "\n",
    "    b()    \n",
    "\n",
    "print('main program start')\n",
    "f()    \n",
    "print('main program end')"
   ]
  },
  {
   "cell_type": "code",
   "execution_count": null,
   "metadata": {},
   "outputs": [],
   "source": [
    "def f():\n",
    "    print('inside f')\n",
    "\n",
    "def b():\n",
    "    print('function b start')\n",
    "    f()\n",
    "    print('function b end')\n",
    "\n",
    "\n",
    "print('main program start')\n",
    "b()    \n",
    "print('main program end')"
   ]
  },
  {
   "cell_type": "code",
   "execution_count": null,
   "metadata": {},
   "outputs": [],
   "source": [
    "def fib(k):\n",
    "    if k == 0 or k == 1:\n",
    "        return 1\n",
    "    else:\n",
    "        return fib(k - 1) + fib(k - 2)   \n",
    "\n",
    "y = fib(4)\n",
    "print(y)"
   ]
  },
  {
   "cell_type": "code",
   "execution_count": null,
   "metadata": {},
   "outputs": [],
   "source": [
    "def factorial(n):\n",
    "    if n == 1:\n",
    "        return 1\n",
    "    else:\n",
    "        return n * factorial(n-1)\n",
    "print(factorial(4))"
   ]
  },
  {
   "cell_type": "code",
   "execution_count": null,
   "metadata": {},
   "outputs": [],
   "source": [
    "def func(x, y):\n",
    "      return x + y\n",
    "\n",
    "func_alias = func\n",
    "result = func_alias(2, 3)\n",
    "print(result)"
   ]
  },
  {
   "cell_type": "code",
   "execution_count": null,
   "metadata": {},
   "outputs": [],
   "source": [
    "def sum_func(x, y):\n",
    "    return x + y\n",
    "\n",
    "def subtraction_func(x, y):\n",
    "    return x - y\n",
    "\n",
    "def tricky_func(x, y, func):\n",
    "    return func(x, y)\n",
    "\n",
    "sum_result = tricky_func(2, 3, sum_func)\n",
    "min_result = tricky_func(2, 3, subtraction_func)\n",
    "\n",
    "print(sum_result)  \n",
    "print(min_result)  "
   ]
  },
  {
   "cell_type": "code",
   "execution_count": null,
   "metadata": {},
   "outputs": [],
   "source": [
    "def sum_func(x, y):\n",
    "    return x + y\n",
    "\n",
    "def subtraction_func(x, y):\n",
    "    return x - y\n",
    "\n",
    "def get_operator(operator):\n",
    "    if operator == '+':\n",
    "        return sum_func\n",
    "    elif operator == '-':\n",
    "        return subtraction_func\n",
    "    else:\n",
    "        print('Unknown operator')\n",
    "\n",
    "sum_action_function = get_operator(\"+\")\n",
    "print(sum_action_function(2, 3))    \n",
    "\n",
    "sub_action_function = get_operator(\"-\")\n",
    "print(sub_action_function(2, 3))    "
   ]
  },
  {
   "cell_type": "code",
   "execution_count": null,
   "metadata": {},
   "outputs": [],
   "source": [
    "user_A = {\n",
    "    'email': 'ivanov@ggg.com', \n",
    "    'phone': '+380001234567',\n",
    "    'notification': 'SMS'\n",
    "}\n",
    "\n",
    "user_B = {\n",
    "    'email': 'petrov@ggg.com', \n",
    "    'notification': 'email'\n",
    "}\n",
    "\n",
    "user_C = {\n",
    "    'email': 'sidorov@ukr.com',\n",
    "    'phone': '+3800088888888',\n",
    "    'app_id': 'dasdskcs7y774ysbfh', \n",
    "    'notification': 'push'\n",
    "}\n",
    "\n",
    "def send_sms(user_info, message):\n",
    "    print('Send SMS to {} with text {}'.format(user_info['phone'], message))\n",
    "    \n",
    "\n",
    "def send_push(user_info, message):\n",
    "    print('Send message {} to queue with app id {}'.format(message, user_info['app_id']))\n",
    "    \n",
    "\n",
    "def send_email(user_info, message):\n",
    "    print('Send email to {} with text {}'.format(user_info['email'], message))\n",
    "    \n",
    "    \n",
    "def check_notification_type(type):\n",
    "    if type == 'SMS':\n",
    "        return send_sms\n",
    "    elif type == 'push':\n",
    "        return send_push\n",
    "    else:\n",
    "        return send_email\n",
    "\n",
    "\n",
    "for user in [user_A, user_B, user_C]:\n",
    "    send_method = check_notification_type(user['notification'])\n",
    "    send_method(user, '18.09.2001 надходження: зарплата - 30 000 грн. Баланс: 100 444 грн.')"
   ]
  },
  {
   "cell_type": "code",
   "execution_count": null,
   "metadata": {},
   "outputs": [],
   "source": [
    "def sum_func(x, y):\n",
    "    return x + y\n",
    "\n",
    "\n",
    "def sub_func(x, y):\n",
    "    return x - y\n",
    "\n",
    "\n",
    "OPERATIONS = {\n",
    "    '-': sub_func,\n",
    "    '+': sum_func\n",
    "}\n",
    "\n",
    "\n",
    "def get_operation(operator):\n",
    "    return OPERATIONS[operator]\n",
    "\n",
    "\n",
    "handler = get_operation('-')\n",
    "handler(29, 3)           \n",
    "\n",
    "get_operation('+')(6, 4)  "
   ]
  },
  {
   "cell_type": "code",
   "execution_count": null,
   "metadata": {},
   "outputs": [],
   "source": [
    "sum_lambda = lambda x, y: x + y\n",
    "sum_lambda(10, 12)"
   ]
  },
  {
   "cell_type": "code",
   "execution_count": null,
   "metadata": {},
   "outputs": [],
   "source": [
    "numbers = [1, 2, 3, 4, 5]\n",
    "for map_result in map(lambda x: x * 2, numbers):\n",
    "    print(map_result)\n",
    "\n",
    "def power_3(a):\n",
    "    return a ** 3\n",
    "\n",
    "for map_result in map(power_3, numbers):\n",
    "    print(map_result)"
   ]
  },
  {
   "cell_type": "code",
   "execution_count": null,
   "metadata": {},
   "outputs": [],
   "source": [
    "for i in filter(lambda x: x % 2, range(1,10)):\n",
    "    print(i)"
   ]
  },
  {
   "cell_type": "code",
   "execution_count": null,
   "metadata": {},
   "outputs": [],
   "source": [
    "employers = [\n",
    "    {'name': 'Ivanova', \n",
    "     'gender': 'female',\n",
    "    }, \n",
    "    {'name': 'Ivanov', \n",
    "     'gender': 'male',\n",
    "    }, \n",
    "    {'name': 'Petrova', \n",
    "     'gender': 'female',\n",
    "    }, \n",
    "    {'name': 'Sidorova', \n",
    "     'gender': 'female',\n",
    "    }, \n",
    "]\n",
    "\n",
    "def check_female(user):\n",
    "    if user['gender'] == 'female':\n",
    "        return True\n",
    "    else:\n",
    "        return False\n",
    "\n",
    "womans = filter(check_female, employers)\n",
    "for worker in womans:\n",
    "    print(worker['name'])"
   ]
  },
  {
   "cell_type": "code",
   "execution_count": null,
   "metadata": {},
   "outputs": [],
   "source": [
    "countries = [\n",
    "    ['China', 1394015977],\n",
    "    ['United States', 329877505],\n",
    "    ['India', 1326093247],\n",
    "    ['Indonesia', 267026366],\n",
    "    ['Bangladesh', 162650853],\n",
    "    ['Pakistan', 233500636],\n",
    "    ['Nigeria', 214028302],\n",
    "    ['Brazil', 21171597],\n",
    "    ['Russia', 141722205],\n",
    "    ['Mexico', 128649565]\n",
    "]\n",
    "population_more = 200_000_000\n",
    "countries_population_more = filter(lambda p: p[1] >= population_more , countries)\n",
    "for country in countries_population_more:\n",
    "    print(country[0], ' ', country[1])"
   ]
  },
  {
   "cell_type": "code",
   "execution_count": null,
   "metadata": {},
   "outputs": [],
   "source": [
    "numbers = [1, 2, 2]\n",
    "my_iter = iter(numbers)\n",
    "print(type(my_iter))\n",
    "\n",
    "print(next(my_iter))\n",
    "print(next(my_iter))\n",
    "print(next(my_iter))"
   ]
  },
  {
   "cell_type": "code",
   "execution_count": null,
   "metadata": {},
   "outputs": [],
   "source": [
    "cities = ['Kyiv', 'Lviv', 'Odesa', 'Kharkiv', 'Dnipro']\n",
    "\n",
    "iter_obj = iter(cities)\n",
    "\n",
    "while True:\n",
    "    try:\n",
    "        element = next(iter_obj)\n",
    "        print(element)\n",
    "        \n",
    "    except StopIteration:\n",
    "        break\n",
    "\n",
    "print('after while')"
   ]
  },
  {
   "cell_type": "code",
   "execution_count": null,
   "metadata": {},
   "outputs": [],
   "source": [
    "def my_gen():\n",
    "    n = 1\n",
    "    print('This is printed first')\n",
    "    yield n\n",
    "\n",
    "    n += 1\n",
    "    print('This is printed second')\n",
    "    yield n\n",
    "\n",
    "    n += 1\n",
    "    print('This is printed at last')\n",
    "    yield n\n",
    "\n",
    "a = my_gen()\n",
    "\n",
    "\n",
    "number = next(a)\n",
    "print(number)\n",
    "\n",
    "number = next(a)\n",
    "print(number)\n",
    "\n",
    "number = next(a)\n",
    "print(number)"
   ]
  },
  {
   "cell_type": "code",
   "execution_count": null,
   "metadata": {},
   "outputs": [],
   "source": [
    "def generate_order_number(number):\n",
    "    \n",
    "    while True:\n",
    "        print('Start of generation')\n",
    "        yield number\n",
    "        print('Next number')\n",
    "        number += 1\n",
    "    \n",
    "orders_iterator = generate_order_number(10)\n",
    "\n",
    "order_number = next(orders_iterator)\n",
    "print(order_number)\n",
    "\n",
    "order_number = next(orders_iterator)\n",
    "print(order_number)\n",
    "\n",
    "print(next(orders_iterator))"
   ]
  },
  {
   "cell_type": "code",
   "execution_count": null,
   "metadata": {},
   "outputs": [],
   "source": [
    "def hello_world():\n",
    "    print('Hello world!')\n",
    "type(hello_world)"
   ]
  },
  {
   "cell_type": "code",
   "execution_count": null,
   "metadata": {},
   "outputs": [],
   "source": [
    "var = hello_world\n",
    "var()"
   ]
  },
  {
   "cell_type": "code",
   "execution_count": null,
   "metadata": {},
   "outputs": [],
   "source": [
    "def wrapper_funtion():\n",
    "    def hello_world():\n",
    "        print('Hello world!')\n",
    "    hello_world()\n",
    "wrapper_funtion()"
   ]
  },
  {
   "cell_type": "code",
   "execution_count": null,
   "metadata": {},
   "outputs": [],
   "source": [
    "def hello_world():\n",
    "    print('Hello world execute')\n",
    "\n",
    "def higher_order(func):\n",
    "    print('before exec')\n",
    "    func()\n",
    "    print('after exec')\n",
    "    return func\n",
    "\n",
    "higher_order(hello_world)"
   ]
  },
  {
   "cell_type": "code",
   "execution_count": null,
   "metadata": {},
   "outputs": [],
   "source": [
    "def decorator_function(func):\n",
    "    def wrapper():\n",
    "        print('Функция-обёртка!')\n",
    "        print('Оборачиваемая функция: {}'.format(func))\n",
    "        print('Выполняем обёрнутую функцию...')\n",
    "        func()\n",
    "        print('Выходим из обёртки')\n",
    "    return wrapper\n",
    "\n",
    "@decorator_function\n",
    "def hello_world():\n",
    "    print('Hello world!')\n",
    "\n",
    "hello_world()\n",
    "hello = decorator_function(hello_world)\n",
    "hello()"
   ]
  },
  {
   "cell_type": "code",
   "execution_count": null,
   "metadata": {},
   "outputs": [],
   "source": [
    "def benchmark(func):\n",
    "    import time\n",
    "\n",
    "    def wrapper():\n",
    "        start = time.time()\n",
    "        func()\n",
    "        end = time.time()\n",
    "        print('[*] Время выполнения: {} секунд.'.format(end-start))\n",
    "    return wrapper\n",
    "\n",
    "@benchmark\n",
    "def fetch_webpage():\n",
    "    import requests\n",
    "    webpage = requests.get('https://google.com')\n",
    "\n",
    "fetch_webpage()"
   ]
  },
  {
   "cell_type": "code",
   "execution_count": 16,
   "metadata": {},
   "outputs": [
    {
     "data": {
      "text/plain": [
       "24"
      ]
     },
     "execution_count": 16,
     "metadata": {},
     "output_type": "execute_result"
    }
   ],
   "source": [
    "def multiplier_creator(n):\n",
    "\n",
    "    def multiplier(number):\n",
    "        return number * n\n",
    "    return multiplier\n",
    "\n",
    "multiplier = multiplier_creator(6)\n",
    "triple_multiplier = multiplier_creator(3)\n",
    "\n",
    "\n",
    "multiplier(4)"
   ]
  }
 ],
 "metadata": {
  "kernelspec": {
   "display_name": "Python 3.10.4 64-bit",
   "language": "python",
   "name": "python3"
  },
  "language_info": {
   "codemirror_mode": {
    "name": "ipython",
    "version": 3
   },
   "file_extension": ".py",
   "mimetype": "text/x-python",
   "name": "python",
   "nbconvert_exporter": "python",
   "pygments_lexer": "ipython3",
   "version": "3.10.4"
  },
  "orig_nbformat": 4,
  "vscode": {
   "interpreter": {
    "hash": "2c31e1d31e05c61b8bafb03ef6c4d1f650a8ebaef842291d4d6f1f79677a4a27"
   }
  }
 },
 "nbformat": 4,
 "nbformat_minor": 2
}
