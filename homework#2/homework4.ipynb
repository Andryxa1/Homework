{
 "cells": [
  {
   "cell_type": "code",
   "execution_count": 1,
   "metadata": {},
   "outputs": [],
   "source": [
    "db_name = 'sqlite-homework.db'"
   ]
  },
  {
   "cell_type": "code",
   "execution_count": 2,
   "metadata": {},
   "outputs": [],
   "source": [
    "import sqlite3\n",
    "con = sqlite3.connect(db_name)\n",
    "\n",
    "cur = con.cursor()\n",
    "\n",
    "cur.execute('''CREATE TABLE IF NOT EXISTS stocks\n",
    "               (date text, trans text, symbol text, qty real, price real)''')\n",
    "\n",
    "\n",
    "try:\n",
    "    cur.execute(\"INSERT INTO stocks VALUES ('2006-01-05', 'BUY', 'RHAT', 100, 35.14)\")\n",
    "    cur.execute(\"INSERT INTO stocks VALUES ('2006-03-28', 'BUY', 'IBM', 1000, 45.0)\")\n",
    "    cur.execute(\"INSERT INTO stocks VALUES ('2006-04-06', 'SELL', 'IBM', 500, 53.0)\")\n",
    "    cur.execute(\"INSERT INTO stocks VALUES ('2006-04-05', 'BUY', 'MSFT', 1000, 72.0)\")\n",
    "\n",
    "\n",
    "    con.commit()\n",
    "finally:\n",
    "    con.close()"
   ]
  },
  {
   "cell_type": "code",
   "execution_count": 3,
   "metadata": {},
   "outputs": [
    {
     "name": "stdout",
     "output_type": "stream",
     "text": [
      "('2006-01-05', 'BUY', 'RHAT', 100.0, 35.14)\n",
      "('2006-03-28', 'BUY', 'IBM', 1000.0, 45.0)\n",
      "('2006-04-06', 'SELL', 'IBM', 500.0, 53.0)\n",
      "('2006-04-05', 'BUY', 'MSFT', 1000.0, 72.0)\n"
     ]
    }
   ],
   "source": [
    "import sqlite3\n",
    "connnection = sqlite3.connect(db_name)\n",
    "cursor = connnection.cursor()\n",
    "try:\n",
    "    stocks = cursor.execute('SELECT * FROM stocks')\n",
    "    for row in stocks:\n",
    "        print(row)\n",
    "\n",
    "finally:\n",
    "    connnection.close()"
   ]
  },
  {
   "cell_type": "code",
   "execution_count": 4,
   "metadata": {},
   "outputs": [
    {
     "name": "stdout",
     "output_type": "stream",
     "text": [
      "('2006-04-06', 'SELL', 'IBM', 500.0, 53.0)\n"
     ]
    }
   ],
   "source": [
    "import sqlite3\n",
    "connnection = sqlite3.connect(db_name)\n",
    "cursor = connnection.cursor()\n",
    "try:\n",
    "    stocks = cursor.execute(\"SELECT * FROM stocks WHERE trans = 'SELL' \")\n",
    "    for row in stocks:\n",
    "        print(row)\n",
    "\n",
    "finally:\n",
    "    connnection.close()"
   ]
  }
 ],
 "metadata": {
  "kernelspec": {
   "display_name": "Python 3.10.4 ('python': venv)",
   "language": "python",
   "name": "python3"
  },
  "language_info": {
   "codemirror_mode": {
    "name": "ipython",
    "version": 3
   },
   "file_extension": ".py",
   "mimetype": "text/x-python",
   "name": "python",
   "nbconvert_exporter": "python",
   "pygments_lexer": "ipython3",
   "version": "3.10.4"
  },
  "orig_nbformat": 4,
  "vscode": {
   "interpreter": {
    "hash": "cd594d676a7656a5f14d4daa316b732483f3662cf67ae3aa167404a15985e4f2"
   }
  }
 },
 "nbformat": 4,
 "nbformat_minor": 2
}
