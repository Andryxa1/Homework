{
 "cells": [
  {
   "cell_type": "code",
   "execution_count": 41,
   "metadata": {},
   "outputs": [],
   "source": [
    "class Footballclub:\n",
    "    name = ''\n",
    "    city = ''\n",
    "    score = 0\n",
    "\n",
    "\n",
    "class Chempionship:\n",
    "    country = ''\n",
    "    name_of_chemp = ''\n",
    "    footballclubs = []\n",
    "\n",
    "\n",
    "chempionshipua = Chempionship\n",
    "chempionshipua.country = 'Ukraine'\n",
    "chempionshipua.name_of_chemp = 'Divizia' \n",
    "\n",
    "real = Footballclub()\n",
    "real.name = 'real'\n",
    "real.city = 'Madrid'\n",
    "real.score = 74\n",
    "\n",
    "liverpul = Footballclub()\n",
    "liverpul.name = 'liverpul'\n",
    "liverpul.city = 'Liverpul'\n",
    "liverpul.score = 66\n",
    "\n",
    "manchester = Footballclub()\n",
    "manchester.name = 'footballteam'\n",
    "manchester.city = 'Moscow'\n",
    "manchester.score = 35\n",
    "\n",
    "shachtar = Footballclub()\n",
    "shachtar.name = 'footballteam_2'\n",
    "shachtar.city = 'Thailand'\n",
    "shachtar.score = 50\n",
    "\n",
    "teams = {\n",
    "    real.name: real.score,\n",
    "    liverpul.name: liverpul.score,\n",
    "    manchester.name: manchester.score,\n",
    "    shachtar.name: shachtar.score\n",
    "}\n",
    "def worstteam(a,b,c,d):\n",
    "    worstScore = min(teams[0],teams[1],teams[2],teams[3])\n",
    "\n",
    "    for score in teams: \n",
    "        if score == worstScore:\n",
    "            print('ZeroDivisionError')\n",
    "        else: \n",
    "            print('hui')\n",
    "\n",
    "    print(worstScore)\n",
    "\n"
   ]
  }
 ],
 "metadata": {
  "kernelspec": {
   "display_name": "Python 3.10.4 ('python': venv)",
   "language": "python",
   "name": "python3"
  },
  "language_info": {
   "codemirror_mode": {
    "name": "ipython",
    "version": 3
   },
   "file_extension": ".py",
   "mimetype": "text/x-python",
   "name": "python",
   "nbconvert_exporter": "python",
   "pygments_lexer": "ipython3",
   "version": "3.10.4"
  },
  "orig_nbformat": 4,
  "vscode": {
   "interpreter": {
    "hash": "cd594d676a7656a5f14d4daa316b732483f3662cf67ae3aa167404a15985e4f2"
   }
  }
 },
 "nbformat": 4,
 "nbformat_minor": 2
}
