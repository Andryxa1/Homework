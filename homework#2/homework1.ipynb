{
 "cells": [
  {
   "cell_type": "code",
   "execution_count": 26,
   "metadata": {},
   "outputs": [
    {
     "name": "stdout",
     "output_type": "stream",
     "text": [
      "У команды manchester меньше всего очков: 35\n"
     ]
    }
   ],
   "source": [
    "class Footballclub:\n",
    "    name = ''\n",
    "    city = ''\n",
    "    score = 0\n",
    "\n",
    "\n",
    "class Chempionship:\n",
    "    country = ''\n",
    "    name_of_chemp = ''\n",
    "    footballclubs = []\n",
    "\n",
    "\n",
    "chempionshipua = Chempionship\n",
    "chempionshipua.country = 'Ukraine'\n",
    "chempionshipua.name_of_chemp = 'Divizia' \n",
    "\n",
    "real = Footballclub()\n",
    "real.name = 'real'\n",
    "real.city = 'Madrid'\n",
    "real.score = 74\n",
    "\n",
    "liverpul = Footballclub()\n",
    "liverpul.name = 'liverpul'\n",
    "liverpul.city = 'Liverpul'\n",
    "liverpul.score = 66\n",
    "\n",
    "manchester = Footballclub()\n",
    "manchester.name = 'manchester'\n",
    "manchester.city = 'Moscow'\n",
    "manchester.score = 35\n",
    "\n",
    "shachtar = Footballclub()\n",
    "shachtar.name = 'shachtar'\n",
    "shachtar.city = 'Thailand'\n",
    "shachtar.score = 50\n",
    "\n",
    "\n",
    "\n",
    "def worstteam():\n",
    "    worstscore = min(real.score, liverpul.score, manchester.score, shachtar.score)\n",
    "    if worstscore == real.score:\n",
    "        return print('У команды {} меньше всего очков: {}'.format(real.name, real.score))\n",
    "    elif worstscore == liverpul.score:\n",
    "        return print('У команды {} меньше всего очков: {}'.format(liverpul.name, liverpul.score))\n",
    "    elif worstscore == manchester.score:\n",
    "        return print('У команды {} меньше всего очков: {}'.format(manchester.name, manchester.score))\n",
    "    else:\n",
    "        return print('У команды {} меньше всего очков: {}'.format(shachtar.name, shachtar.score))\n",
    "\n",
    "worstteam()"
   ]
  }
 ],
 "metadata": {
  "kernelspec": {
   "display_name": "Python 3.10.4 ('python': venv)",
   "language": "python",
   "name": "python3"
  },
  "language_info": {
   "codemirror_mode": {
    "name": "ipython",
    "version": 3
   },
   "file_extension": ".py",
   "mimetype": "text/x-python",
   "name": "python",
   "nbconvert_exporter": "python",
   "pygments_lexer": "ipython3",
   "version": "3.10.4"
  },
  "orig_nbformat": 4,
  "vscode": {
   "interpreter": {
    "hash": "cd594d676a7656a5f14d4daa316b732483f3662cf67ae3aa167404a15985e4f2"
   }
  }
 },
 "nbformat": 4,
 "nbformat_minor": 2
}
