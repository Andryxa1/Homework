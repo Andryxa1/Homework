{
 "cells": [
  {
   "cell_type": "code",
   "execution_count": 17,
   "metadata": {},
   "outputs": [
    {
     "name": "stdout",
     "output_type": "stream",
     "text": [
      "square_1 = 4 cm²\n",
      "square_2 = 9 cm²\n",
      "square_3 = 16 cm²\n",
      "square_4 = 25 cm²\n",
      "circle_1 = 3.141592653589793 cm²\n",
      "circle_2 = 12.566370614359172 cm²\n",
      "circle_3 = 28.274333882308138 cm²\n",
      "circle_4 = 50.26548245743669 cm²\n"
     ]
    }
   ],
   "source": [
    "from math import pi\n",
    "class figure:\n",
    "    name = ''\n",
    "    side = 0\n",
    "    formula = None\n",
    "square_1 = figure()\n",
    "square_1.name = 'square_1'\n",
    "square_1.side = 2\n",
    "square_1.formula = square_1.side ** 2\n",
    "\n",
    "square_2 = figure()\n",
    "square_2.name = 'square_2'\n",
    "square_2.side = 3\n",
    "square_2.formula = square_2.side ** 2\n",
    "\n",
    "square_3 = figure()\n",
    "square_3.name = 'square_3'\n",
    "square_3.side = 4\n",
    "square_3.formula = square_3.side ** 2\n",
    "\n",
    "square_4 = figure()\n",
    "square_4.name = 'square_4'\n",
    "square_4.side = 5\n",
    "square_4.formula = square_4.side ** 2\n",
    "\n",
    "circle_1 = figure()\n",
    "circle_1.name = 'circle_1'\n",
    "circle_1.side = 1\n",
    "circle_1.formula = (circle_1.side ** 2) * pi\n",
    "\n",
    "circle_2 = figure()\n",
    "circle_2.name = 'circle_2'\n",
    "circle_2.side = 2\n",
    "circle_2.formula = (circle_2.side ** 2) * pi\n",
    "\n",
    "circle_3 = figure()\n",
    "circle_3.name = 'circle_3'\n",
    "circle_3.side = 3\n",
    "circle_3.formula = (circle_3.side ** 2) * pi\n",
    "\n",
    "circle_4 = figure()\n",
    "circle_4.name = 'circle_4'\n",
    "circle_4.side = 4\n",
    "circle_4.formula = (circle_4.side ** 2) * pi\n",
    "\n",
    "figures = {\n",
    "    square_1.name : square_1.formula ,\n",
    "    square_2.name : square_2.formula ,\n",
    "    square_3.name : square_3.formula ,\n",
    "    square_4.name : square_4.formula ,\n",
    "    circle_1.name : circle_1.formula ,\n",
    "    circle_2.name : circle_2.formula ,\n",
    "    circle_3.name : circle_3.formula ,\n",
    "    circle_4.name : circle_4.formula\n",
    "}\n",
    "for list in figures:\n",
    "    print('{} = {} cm²'.format(list, figures[list]))\n",
    "\n",
    "\n",
    "\n",
    "\n",
    "\n",
    "\n"
   ]
  }
 ],
 "metadata": {
  "kernelspec": {
   "display_name": "Python 3.10.4 ('python': venv)",
   "language": "python",
   "name": "python3"
  },
  "language_info": {
   "codemirror_mode": {
    "name": "ipython",
    "version": 3
   },
   "file_extension": ".py",
   "mimetype": "text/x-python",
   "name": "python",
   "nbconvert_exporter": "python",
   "pygments_lexer": "ipython3",
   "version": "3.10.4"
  },
  "orig_nbformat": 4,
  "vscode": {
   "interpreter": {
    "hash": "cd594d676a7656a5f14d4daa316b732483f3662cf67ae3aa167404a15985e4f2"
   }
  }
 },
 "nbformat": 4,
 "nbformat_minor": 2
}
